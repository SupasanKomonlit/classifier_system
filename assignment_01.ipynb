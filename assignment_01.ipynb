{
 "cells": [
  {
   "cell_type": "markdown",
   "metadata": {},
   "source": [
    "# Part Training CNN\n",
    "This part normal file on name assignment01_CNN_train_part.py"
   ]
  },
  {
   "cell_type": "code",
   "execution_count": 1,
   "metadata": {},
   "outputs": [
    {
     "name": "stderr",
     "output_type": "stream",
     "text": [
      "Using TensorFlow backend.\n"
     ]
    }
   ],
   "source": [
    "# README\n",
    "# This file will use to access all file in directory and manage about file name for get path\n",
    "\n",
    "# REFERENCE\n",
    "# ref01 : https://docs.python.org/3/tutorial/inputoutput.html\n",
    "# ref02 : https://keras.io/layers/convolutional/\n",
    "# ref03 : https://keras.io/getting-started/faq/#how-can-i-install-hdf5-or-h5py-to-save-my-models-in-keras\n",
    "\n",
    "from directory_handle import DirectoryHandle\n",
    "import image_handle as ImageHandle\n",
    "import data_handle as DataHandle\n",
    "\n",
    "import matplotlib.pyplot as plt # Plot image\n",
    "\n",
    "import numpy as np\n",
    "\n",
    "# Import Library for CNN \n",
    "from keras.models import Sequential\n",
    "## Part Core Layers\n",
    "from keras.layers import Dense, Flatten, Dropout\n",
    "## Part Convolutional Layers\n",
    "from keras.layers import Conv2D, Conv2DTranspose\n",
    "## Part Pooling Layers\n",
    "from keras.layers import MaxPooling2D"
   ]
  },
  {
   "cell_type": "code",
   "execution_count": 2,
   "metadata": {},
   "outputs": [],
   "source": [
    "# Constant Part\n",
    "PATH_DATA = \"/home/zeabus/Documents/supasan/2019_deep_learning/PokemonData\""
   ]
  },
  {
   "cell_type": "code",
   "execution_count": 3,
   "metadata": {},
   "outputs": [
    {
     "name": "stdout",
     "output_type": "stream",
     "text": [
      "\tData 149 groups and 6781 pictures\n"
     ]
    }
   ],
   "source": [
    "# Get all full path to image file and split by label : depth = 1\n",
    "directory_handle = DirectoryHandle( PATH_DATA )\n",
    "list_label , list_data = directory_handle.group_data()\n",
    "print(f'\\tData {len(list_label)} groups and {sum([len(data) for data in list_data])} pictures')"
   ]
  },
  {
   "cell_type": "code",
   "execution_count": 4,
   "metadata": {},
   "outputs": [
    {
     "name": "stdout",
     "output_type": "stream",
     "text": [
      "Assignment 01 : CNN Will manage by resize image to smallest size 43 square\n",
      "Assignment 01 : Summary have data 149 lable and 6781 pictures\n"
     ]
    }
   ],
   "source": [
    "# Get small size and load image to array prepare result\n",
    "smallest_size = ImageHandle.min_all_square_size1( list_data )\n",
    "print(f'Assignment 01 : CNN Will manage by resize image to smallest size {smallest_size} square')\n",
    "X_all , Y_all = ImageHandle.prepare_label_data( list_label , list_data , smallest_size )\n",
    "print(f'Assignment 01 : Summary have data {len(Y_all[0])} lable and {len(X_all)} pictures')"
   ]
  },
  {
   "cell_type": "code",
   "execution_count": 5,
   "metadata": {},
   "outputs": [
    {
     "name": "stdout",
     "output_type": "stream",
     "text": [
      "Example picture index 1143\n"
     ]
    },
    {
     "data": {
      "text/plain": [
       "<matplotlib.image.AxesImage at 0x7f35a078ca90>"
      ]
     },
     "execution_count": 5,
     "metadata": {},
     "output_type": "execute_result"
    },
    {
     "data": {
      "image/png": "[encoded data removed]",
      "text/plain": [
       "<Figure size 432x288 with 1 Axes>"
      ]
     },
     "metadata": {
      "needs_background": "light"
     },
     "output_type": "display_data"
    }
   ],
   "source": [
    "temp_number = np.random.randint( len(X_all) )\n",
    "print(f'Example picture index {temp_number}')       \n",
    "plt.imshow( X_all[ temp_number ] )  "
   ]
  },
  {
   "cell_type": "code",
   "execution_count": 6,
   "metadata": {
    "scrolled": true
   },
   "outputs": [
    {
     "name": "stdout",
     "output_type": "stream",
     "text": [
      "Model: \"classifier_pokemon\"\n",
      "_________________________________________________________________\n",
      "Layer (type)                 Output Shape              Param #   \n",
      "=================================================================\n",
      "conv2d_1 (Conv2D)            (None, 41, 41, 128)       3584      \n",
      "_________________________________________________________________\n",
      "conv2d_2 (Conv2D)            (None, 39, 39, 64)        73792     \n",
      "_________________________________________________________________\n",
      "max_pooling2d_1 (MaxPooling2 (None, 19, 19, 64)        0         \n",
      "_________________________________________________________________\n",
      "flatten_1 (Flatten)          (None, 23104)             0         \n",
      "_________________________________________________________________\n",
      "dense_1 (Dense)              (None, 149)               3442645   \n",
      "=================================================================\n",
      "Total params: 3,520,021\n",
      "Trainable params: 3,520,021\n",
      "Non-trainable params: 0\n",
      "_________________________________________________________________\n",
      "None\n"
     ]
    }
   ],
   "source": [
    "# Create Model\n",
    "model = Sequential()\n",
    "model.name = \"classifier_pokemon\"\n",
    "# Add all layers\n",
    "## Add First layer is Convolution Layer\n",
    "model.add( Conv2D( 128 ,\n",
    "                 kernel_size=3,\n",
    "                 activation='relu',\n",
    "                 input_shape=(smallest_size , smallest_size , 3)))\n",
    "## Add Second layer is Convolution Layer\n",
    "model.add( Conv2D( 64 , \n",
    "                 kernel_size=3,\n",
    "                 activation='relu') )\n",
    "## Add Third layer is Pooling Layer\n",
    "model.add( MaxPooling2D( pool_size=(2,2),\n",
    "                 data_format='channels_last') )\n",
    "## Add Forth Layer is Flatten Layer \n",
    "### This layer will manage only output shape to one dimension\n",
    "model.add( Flatten( data_format='channels_last' ) )\n",
    "## Add Fifth Layer is Fully Connected layer use activation softmax\n",
    "model.add( Dense( len(list_label), activation='softmax' ) )\n",
    "# Finish add layers\n",
    "\n",
    "# Set Model compute loss on patter classifier\n",
    "model.compile( optimizer='sgd',\n",
    "              loss='categorical_crossentropy',\n",
    "              metrics=['accuracy'])\n",
    "print( model.summary() )"
   ]
  },
  {
   "cell_type": "code",
   "execution_count": 7,
   "metadata": {},
   "outputs": [
    {
     "data": {
      "text/plain": [
       "True"
      ]
     },
     "execution_count": 7,
     "metadata": {},
     "output_type": "execute_result"
    }
   ],
   "source": [
    "model.layers[0].trainable"
   ]
  },
  {
   "cell_type": "code",
   "execution_count": 8,
   "metadata": {},
   "outputs": [
    {
     "name": "stdout",
     "output_type": "stream",
     "text": [
      "From 6781 datas split for train 5934 datas and test 847 datas\n"
     ]
    }
   ],
   "source": [
    "( x_train , y_train ) , ( x_test , y_test ) = DataHandle.train_test_split(\n",
    "    X_all , Y_all , 8 )\n",
    "print(f'From {len(X_all)} datas split for train {len(x_train)} datas and test {len(x_test)} datas')"
   ]
  },
  {
   "cell_type": "code",
   "execution_count": null,
   "metadata": {},
   "outputs": [
    {
     "name": "stdout",
     "output_type": "stream",
     "text": [
      "Train on 5934 samples, validate on 847 samples\n",
      "Epoch 1/100\n",
      "5934/5934 [==============================] - 68s 11ms/step - loss: 30341336133840705605257396224.0000 - accuracy: 0.0071 - val_loss: 5.0038 - val_accuracy: 0.0094\n",
      "Epoch 2/100\n",
      "4128/5934 [===================>..........] - ETA: 20s - loss: 5.0039 - accuracy: 0.0094"
     ]
    }
   ],
   "source": [
    "model.fit( [x_train] , [y_train],\n",
    "         validation_data=( [x_test] , [y_test] ),\n",
    "         epochs = 100 )"
   ]
  },
  {
   "cell_type": "code",
   "execution_count": null,
   "metadata": {},
   "outputs": [],
   "source": [
    "model.predict( [[ X_all[temp_number ] ]])"
   ]
  },
  {
   "cell_type": "markdown",
   "metadata": {},
   "source": [
    "# Part Training AutoEncoder\n",
    "This part normal file on name assignment01_autoencoder_train_part.py"
   ]
  },
  {
   "cell_type": "code",
   "execution_count": 46,
   "metadata": {},
   "outputs": [],
   "source": [
    "# README\n",
    "# This file will use to access all file in directory and manage about file name for get path\n",
    "\n",
    "# REFERENCE\n",
    "# ref01 : https://docs.python.org/3/tutorial/inputoutput.html\n",
    "# ref02 : https://keras.io/layers/convolutional/\n",
    "# ref03 : https://keras.io/getting-started/faq/#how-can-i-install-hdf5-or-h5py-to-save-my-models-in-keras\n",
    "\n",
    "from directory_handle import DirectoryHandle\n",
    "import image_handle as ImageHandle\n",
    "import data_handle as DataHandle\n",
    "\n",
    "import matplotlib.pyplot as plt # Plot image\n",
    "\n",
    "import numpy as np\n",
    "\n",
    "# Import Library for CNN \n",
    "from keras.models import Sequential\n",
    "## Part Core Layers\n",
    "from keras.layers import Dense, Dropout, Flatten\n",
    "## Part Convolution Layers\n",
    "from keras.layers import Conv2D, UpSampling2D"
   ]
  },
  {
   "cell_type": "code",
   "execution_count": 19,
   "metadata": {},
   "outputs": [],
   "source": [
    "# Constant Part\n",
    "PATH_DATA = \"/home/zeabus/Documents/supasan/2019_deep_learning/PokemonData\""
   ]
  },
  {
   "cell_type": "code",
   "execution_count": 20,
   "metadata": {},
   "outputs": [
    {
     "name": "stdout",
     "output_type": "stream",
     "text": [
      "\tData 149 groups and 6781 pictures\n"
     ]
    }
   ],
   "source": [
    "# Get all full path to image file and split by label : depth = 1\n",
    "directory_handle = DirectoryHandle( PATH_DATA )\n",
    "list_label , list_data = directory_handle.group_data()\n",
    "print(f'\\tData {len(list_label)} groups and {sum([len(data) for data in list_data])} pictures')"
   ]
  },
  {
   "cell_type": "code",
   "execution_count": 54,
   "metadata": {},
   "outputs": [
    {
     "name": "stdout",
     "output_type": "stream",
     "text": [
      "Assignment 01 : CNN Will manage by resize image to smallest size 44 square\n",
      "Assignment 01 : Summary have data 149 lable and 6781 pictures\n"
     ]
    }
   ],
   "source": [
    "# Get small size and load image to array prepare result\n",
    "smallest_size = ImageHandle.min_all_square_size1( list_data ) + 1\n",
    "print(f'Assignment 01 : CNN Will manage by resize image to smallest size {smallest_size} square')\n",
    "X_all , Y_all = ImageHandle.prepare_label_data( list_label , list_data , smallest_size )\n",
    "print(f'Assignment 01 : Summary have data {len(Y_all[0])} lable and {len(X_all)} pictures')"
   ]
  },
  {
   "cell_type": "code",
   "execution_count": 60,
   "metadata": {},
   "outputs": [
    {
     "name": "stdout",
     "output_type": "stream",
     "text": [
      "Example picture index 4993\n"
     ]
    },
    {
     "data": {
      "text/plain": [
       "<matplotlib.image.AxesImage at 0x7f4094492190>"
      ]
     },
     "execution_count": 60,
     "metadata": {},
     "output_type": "execute_result"
    },
    {
     "data": {
      "image/png": "[encoded data removed]",
      "text/plain": [
       "<Figure size 432x288 with 1 Axes>"
      ]
     },
     "metadata": {
      "needs_background": "light"
     },
     "output_type": "display_data"
    }
   ],
   "source": [
    "temp_number = np.random.randint( len(X_all) )\n",
    "print(f'Example picture index {temp_number}')       \n",
    "plt.imshow( X_all[ temp_number ] )"
   ]
  },
  {
   "cell_type": "code",
   "execution_count": 71,
   "metadata": {},
   "outputs": [
    {
     "name": "stdout",
     "output_type": "stream",
     "text": [
      "[0.49411765 0.5176471  0.40392157]\n",
      "[0.49411765 0.5176471  0.40392157]\n"
     ]
    }
   ],
   "source": [
    "test = np.array( X_all )\n",
    "print( (test.astype('float32')/255)[temp_number][0][5] )"
   ]
  },
  {
   "cell_type": "code",
   "execution_count": 59,
   "metadata": {},
   "outputs": [
    {
     "name": "stdout",
     "output_type": "stream",
     "text": [
      "Model: \"sequential_37\"\n",
      "_________________________________________________________________\n",
      "Layer (type)                 Output Shape              Param #   \n",
      "=================================================================\n",
      "conv2d_62 (Conv2D)           (None, 44, 44, 32)        896       \n",
      "_________________________________________________________________\n",
      "conv2d_63 (Conv2D)           (None, 44, 44, 16)        4624      \n",
      "_________________________________________________________________\n",
      "max_pooling2d_16 (MaxPooling (None, 22, 22, 16)        0         \n",
      "_________________________________________________________________\n",
      "conv2d_64 (Conv2D)           (None, 22, 22, 8)         1160      \n",
      "_________________________________________________________________\n",
      "conv2d_65 (Conv2D)           (None, 22, 22, 16)        1168      \n",
      "_________________________________________________________________\n",
      "up_sampling2d_3 (UpSampling2 (None, 44, 44, 16)        0         \n",
      "_________________________________________________________________\n",
      "conv2d_66 (Conv2D)           (None, 44, 44, 32)        4640      \n",
      "_________________________________________________________________\n",
      "conv2d_67 (Conv2D)           (None, 44, 44, 3)         867       \n",
      "=================================================================\n",
      "Total params: 13,355\n",
      "Trainable params: 13,355\n",
      "Non-trainable params: 0\n",
      "_________________________________________________________________\n",
      "None\n"
     ]
    }
   ],
   "source": [
    "model = Sequential()\n",
    "\n",
    "model.add( Conv2D( 32,\n",
    "                  kernel_size=3,\n",
    "                  activation='relu',\n",
    "                  padding='same',\n",
    "                  input_shape=( smallest_size , smallest_size , 3),\n",
    "                  data_format='channels_last') )\n",
    "model.add( Conv2D( 16,\n",
    "                  kernel_size=3,\n",
    "                  activation='relu',\n",
    "                  padding='same'))\n",
    "model.add( MaxPooling2D( pool_size=2,\n",
    "                  padding='same' ))\n",
    "model.add( Conv2D( 8,\n",
    "                  kernel_size=3,\n",
    "                  activation='relu',\n",
    "                  padding='same'))\n",
    "model.add( Conv2D( 16,\n",
    "                  kernel_size=3,\n",
    "                  activation='relu',\n",
    "                  padding='same') )\n",
    "model.add( UpSampling2D( (2,2) ))\n",
    "model.add( Conv2D( 32,\n",
    "                  kernel_size=3,\n",
    "                  activation='relu',\n",
    "                  padding='same') )\n",
    "model.add( Conv2D( 3,\n",
    "                  kernel_size=3,\n",
    "                  activation='relu',\n",
    "                  padding='same') )\n",
    "\n",
    "print( model.summary() )"
   ]
  },
  {
   "cell_type": "code",
   "execution_count": null,
   "metadata": {},
   "outputs": [],
   "source": []
  }
 ],
 "metadata": {
  "kernelspec": {
   "display_name": "Python 3",
   "language": "python",
   "name": "python3"
  },
  "language_info": {
   "codemirror_mode": {
    "name": "ipython",
    "version": 3
   },
   "file_extension": ".py",
   "mimetype": "text/x-python",
   "name": "python",
   "nbconvert_exporter": "python",
   "pygments_lexer": "ipython3",
   "version": "3.7.6"
  }
 },
 "nbformat": 4,
 "nbformat_minor": 4
}
