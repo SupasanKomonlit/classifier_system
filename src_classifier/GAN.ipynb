{
 "cells": [
  {
   "cell_type": "markdown",
   "metadata": {},
   "source": [
    "# GAN\n",
    "This file have purpose to analysis about GAN algorithm\n",
    "\n",
    "reference : https://towardsdatascience.com/generate-anime-style-face-using-dcgan-and-explore-its-latent-feature-representation-ae0e905f3974"
   ]
  },
  {
   "cell_type": "code",
   "execution_count": 1,
   "metadata": {},
   "outputs": [
    {
     "name": "stderr",
     "output_type": "stream",
     "text": [
      "Using TensorFlow backend.\n"
     ]
    }
   ],
   "source": [
    "# Import library create by mysel\n",
    "from directory_handle import DirectoryHandle\n",
    "import image_handle as ImageHandle\n",
    "import data_handle as DataHandle\n",
    "\n",
    "# Import library for plot image\n",
    "import matplotlib.pyplot as plt\n",
    "\n",
    "# Import library for manage model part Core Layers\n",
    "from keras.layers import Input, Flatten, Dense, Reshape\n",
    "# Import library for manage model part Convolution Layers\n",
    "from keras.layers import Conv2D, Conv2DTranspose\n",
    "# Import Library for manage model part Model Object\n",
    "from keras.models import Model\n",
    "# Import Library for manage model part optimizer\n",
    "from keras.optimizers import Adam\n",
    "# Import Library about model \n",
    "from keras.utils import plot_model\n",
    "# Import library for load model\n",
    "from keras.models import load_model\n",
    "\n",
    "#Import library for normal process\n",
    "import numpy as np"
   ]
  },
  {
   "cell_type": "code",
   "execution_count": null,
   "metadata": {},
   "outputs": [],
   "source": []
  }
 ],
 "metadata": {
  "kernelspec": {
   "display_name": "Python 3",
   "language": "python",
   "name": "python3"
  },
  "language_info": {
   "codemirror_mode": {
    "name": "ipython",
    "version": 3
   },
   "file_extension": ".py",
   "mimetype": "text/x-python",
   "name": "python",
   "nbconvert_exporter": "python",
   "pygments_lexer": "ipython3",
   "version": "3.7.6"
  }
 },
 "nbformat": 4,
 "nbformat_minor": 4
}
