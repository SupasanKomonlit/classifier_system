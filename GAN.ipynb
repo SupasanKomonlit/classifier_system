{
 "cells": [
  {
   "cell_type": "markdown",
   "metadata": {},
   "source": [
    "# Generative Adversarial Network\n",
    "\n",
    "reference : https://towardsdatascience.com/generate-anime-style-face-using-dcgan-and-explore-its-latent-feature-representation-ae0e905f3974\n",
    "\n",
    "## Header Program\n"
   ]
  },
  {
   "cell_type": "code",
   "execution_count": 1,
   "metadata": {},
   "outputs": [
    {
     "name": "stderr",
     "output_type": "stream",
     "text": [
      "Using TensorFlow backend.\n"
     ]
    }
   ],
   "source": [
    "# Import library create by mysel\n",
    "from library.directory_handle import DirectoryHandle\n",
    "import library.image_handle as ImageHandle\n",
    "import library.data_handle as DataHandle\n",
    "\n",
    "# Import library for plot image\n",
    "import matplotlib.pyplot as plt\n",
    "\n",
    "# Import library for manage model part Core Layers\n",
    "from keras.layers import Input, Flatten, Dense, Reshape, Lambda, Dropout\n",
    "# Import library for manage model part Convolution Layers\n",
    "from keras.layers import Conv2D, Conv2DTranspose\n",
    "# Import library for manage model part Activation\n",
    "from keras.layers import Activation\n",
    "# Import Library for manage model part Model Object\n",
    "from keras.models import Model\n",
    "# Import Library for manage model part optimizer\n",
    "from keras.optimizers import Adam, RMSprop\n",
    "# Import Library about model \n",
    "from keras.utils import plot_model\n",
    "# Import library for load model\n",
    "from keras.models import load_model\n",
    "# Import library operation in Keras tensor object\n",
    "from keras import backend as K\n",
    "\n",
    "#Import library for normal process\n",
    "import numpy as np\n",
    "\n",
    "#Import library for manage clear output\n",
    "from IPython.display import clear_output"
   ]
  },
  {
   "cell_type": "markdown",
   "metadata": {},
   "source": [
    "## Prepare Data"
   ]
  },
  {
   "cell_type": "code",
   "execution_count": 2,
   "metadata": {},
   "outputs": [],
   "source": [
    "# Constant data path to collect directory data\n",
    "PATH_DATA = \"/home/zeabus/Documents/supasan/2019_deep_learning/AnimeFaceData\" \n",
    "\n",
    "# Part parameter in normal program will require to input\n",
    "crop = True\n",
    "color = True\n",
    "rounds = 10 # Round to train data (epoches)"
   ]
  },
  {
   "cell_type": "code",
   "execution_count": 3,
   "metadata": {},
   "outputs": [
    {
     "data": {
      "text/plain": [
       "<matplotlib.collections.PathCollection at 0x7f6aa9859a10>"
      ]
     },
     "execution_count": 3,
     "metadata": {},
     "output_type": "execute_result"
    },
    {
     "data": {
      "image/png": "[encoded data removed]",
      "text/plain": [
       "<Figure size 432x288 with 1 Axes>"
      ]
     },
     "metadata": {
      "needs_background": "light"
     },
     "output_type": "display_data"
    }
   ],
   "source": [
    "directory_handle = DirectoryHandle( PATH_DATA )\n",
    "list_file = directory_handle.get_all_file()\n",
    "\n",
    "width , height = ImageHandle.read_size( list_file )\n",
    "width = np.array( width )\n",
    "height = np.array( height )\n",
    "plt.scatter( width , height )"
   ]
  },
  {
   "cell_type": "code",
   "execution_count": 4,
   "metadata": {},
   "outputs": [
    {
     "name": "stdout",
     "output_type": "stream",
     "text": [
      "Will manage by resize image to size 26 square and have latent size 64\n"
     ]
    }
   ],
   "source": [
    "square_size = int( np.ceil( width.min() ) )\n",
    "square_size = square_size if square_size % 2 == 0 else square_size + 1\n",
    "#latent_size = int( np.power( square_size , 2 ) / 4 * 3 )\n",
    "latent_size = 64\n",
    "print(f'Will manage by resize image to size {square_size} square and have latent size {latent_size}')"
   ]
  },
  {
   "cell_type": "code",
   "execution_count": 5,
   "metadata": {},
   "outputs": [],
   "source": [
    "X_data = ImageHandle.read_all_data( list_file , square_size , color = color , crop = crop )"
   ]
  },
  {
   "cell_type": "code",
   "execution_count": 6,
   "metadata": {},
   "outputs": [],
   "source": [
    "picture_shape = X_data[0].shape\n",
    "shape_before_flatten = ( int( picture_shape[0] / 2),\n",
    "                int( picture_shape[1] / 2),\n",
    "                16 )"
   ]
  },
  {
   "cell_type": "markdown",
   "metadata": {},
   "source": [
    "## Setup Model\n",
    "This part I split step to setup GAN Model to Generator, Descriminator and GAN model\n",
    "### Part Generator Model"
   ]
  },
  {
   "cell_type": "code",
   "execution_count": 7,
   "metadata": {},
   "outputs": [
    {
     "name": "stdout",
     "output_type": "stream",
     "text": [
      "Model: \"generator\"\n",
      "_________________________________________________________________\n",
      "Layer (type)                 Output Shape              Param #   \n",
      "=================================================================\n",
      "generator_input (InputLayer) (None, 64)                0         \n",
      "_________________________________________________________________\n",
      "generator_neuron1 (Dense)    (None, 2704)              175760    \n",
      "_________________________________________________________________\n",
      "generator_neuron1_activation (None, 2704)              0         \n",
      "_________________________________________________________________\n",
      "generator_reshape (Reshape)  (None, 13, 13, 16)        0         \n",
      "_________________________________________________________________\n",
      "generator_convolution1 (Conv (None, 13, 13, 16)        2320      \n",
      "_________________________________________________________________\n",
      "generator_convolution1_activ (None, 13, 13, 16)        0         \n",
      "_________________________________________________________________\n",
      "generator_convolution2 (Conv (None, 26, 26, 32)        4640      \n",
      "_________________________________________________________________\n",
      "generator_convolution2_activ (None, 26, 26, 32)        0         \n",
      "_________________________________________________________________\n",
      "generator_output (Conv2DTran (None, 26, 26, 3)         867       \n",
      "_________________________________________________________________\n",
      "generator_output_activation  (None, 26, 26, 3)         0         \n",
      "=================================================================\n",
      "Total params: 183,587\n",
      "Trainable params: 183,587\n",
      "Non-trainable params: 0\n",
      "_________________________________________________________________\n"
     ]
    }
   ],
   "source": [
    "generator_input = Input( shape=(latent_size,),\n",
    "                name = \"generator_input\")\n",
    "generator = Dense( np.prod( shape_before_flatten ),\n",
    "                name = \"generator_neuron1\" )( generator_input )\n",
    "generator = Activation( \"relu\",\n",
    "                name = \"generator_neuron1_activation\" )(generator)\n",
    "generator = Reshape( shape_before_flatten , \n",
    "                name = \"generator_reshape\" )(generator)\n",
    "generator = Conv2DTranspose( filters = 16,\n",
    "                           kernel_size = (3,3),\n",
    "                           strides = 1,\n",
    "                           padding = \"same\",\n",
    "                           name = \"generator_convolution1\",\n",
    "                           use_bias = True )(generator)\n",
    "generator = Activation( \"relu\",\n",
    "                name = \"generator_convolution1_activation\" )(generator)\n",
    "generator = Conv2DTranspose( filters = 32,\n",
    "                           kernel_size = (3,3),\n",
    "                           strides = 2,\n",
    "                           padding = \"same\",\n",
    "                           name = \"generator_convolution2\" )(generator)\n",
    "generator = Activation( \"relu\",\n",
    "                name = \"generator_convolution2_activation\" )(generator)\n",
    "generator = Conv2DTranspose( filters = 3,\n",
    "                           kernel_size = (3,3),\n",
    "                           strides = 1,\n",
    "                           padding = \"same\",\n",
    "                           name = \"generator_output\" )(generator)\n",
    "generator_output = Activation( \"relu\",\n",
    "                name = \"generator_output_activation\" )(generator)\n",
    "generator_model = Model( generator_input , generator_output )\n",
    "generator_model.name = \"generator\"\n",
    "generator_model.summary()"
   ]
  },
  {
   "cell_type": "markdown",
   "metadata": {},
   "source": [
    "### Part Discriminator"
   ]
  },
  {
   "cell_type": "code",
   "execution_count": 8,
   "metadata": {},
   "outputs": [
    {
     "name": "stdout",
     "output_type": "stream",
     "text": [
      "Model: \"discriminator\"\n",
      "_________________________________________________________________\n",
      "Layer (type)                 Output Shape              Param #   \n",
      "=================================================================\n",
      "discirminator_input (InputLa (None, 26, 26, 3)         0         \n",
      "_________________________________________________________________\n",
      "discriminator_convolution1 ( (None, 26, 26, 32)        896       \n",
      "_________________________________________________________________\n",
      "discriminator_convolution1_a (None, 26, 26, 32)        0         \n",
      "_________________________________________________________________\n",
      "discriminator_convolution2 ( (None, 13, 13, 16)        4624      \n",
      "_________________________________________________________________\n",
      "discriminator_convolution2_a (None, 13, 13, 16)        0         \n",
      "_________________________________________________________________\n",
      "discriminator_flatten (Flatt (None, 2704)              0         \n",
      "_________________________________________________________________\n",
      "dropout_1 (Dropout)          (None, 2704)              0         \n",
      "_________________________________________________________________\n",
      "discriminator_dense1 (Dense) (None, 64)                173120    \n",
      "_________________________________________________________________\n",
      "discriminator_dense1_activat (None, 64)                0         \n",
      "_________________________________________________________________\n",
      "discriminator_output (Dense) (None, 1)                 65        \n",
      "_________________________________________________________________\n",
      "discriminator_output_activat (None, 1)                 0         \n",
      "=================================================================\n",
      "Total params: 178,705\n",
      "Trainable params: 178,705\n",
      "Non-trainable params: 0\n",
      "_________________________________________________________________\n"
     ]
    }
   ],
   "source": [
    "discriminator_input = Input( picture_shape ,\n",
    "                    name = \"discirminator_input\" )\n",
    "discriminator = Conv2D( filters = 32,\n",
    "                    kernel_size = (3,3),\n",
    "                    strides = 1,\n",
    "                    padding = \"same\",\n",
    "                    name = \"discriminator_convolution1\" )( discriminator_input )\n",
    "discriminator = Activation( \"relu\",\n",
    "                name = \"discriminator_convolution1_activation\" )(discriminator)\n",
    "discriminator = Conv2D( filters = 16,\n",
    "                    kernel_size = (3,3),\n",
    "                    strides = 2,\n",
    "                    padding = \"same\",\n",
    "                    name = \"discriminator_convolution2\" )( discriminator )\n",
    "discriminator = Activation( \"relu\",\n",
    "                name = \"discriminator_convolution2_activation\" )(discriminator)\n",
    "discriminator = Flatten( name = \"discriminator_flatten\" )( discriminator )\n",
    "discriminator = Dropout( 0.2 )( discriminator )\n",
    "discriminator = Dense( latent_size ,\n",
    "                name = \"discriminator_dense1\" )( discriminator )\n",
    "discriminator = Activation( \"sigmoid\",\n",
    "                name = \"discriminator_dense1_activation\" )( discriminator )\n",
    "discriminator = Dense( 1 , name = \"discriminator_output\" )( discriminator )\n",
    "discriminator_output = Activation( \"sigmoid\",\n",
    "                name = \"discriminator_output_activation\" )( discriminator )\n",
    "discriminator_model = Model( discriminator_input , discriminator_output )\n",
    "discriminator_model.name = \"discriminator\"\n",
    "discriminator_model.summary()"
   ]
  },
  {
   "cell_type": "code",
   "execution_count": 9,
   "metadata": {},
   "outputs": [
    {
     "name": "stdout",
     "output_type": "stream",
     "text": [
      "Model: \"GAN_model\"\n",
      "_________________________________________________________________\n",
      "Layer (type)                 Output Shape              Param #   \n",
      "=================================================================\n",
      "generator_input (InputLayer) (None, 64)                0         \n",
      "_________________________________________________________________\n",
      "generator (Model)            (None, 26, 26, 3)         183587    \n",
      "_________________________________________________________________\n",
      "discriminator (Model)        (None, 1)                 178705    \n",
      "=================================================================\n",
      "Total params: 362,292\n",
      "Trainable params: 362,292\n",
      "Non-trainable params: 0\n",
      "_________________________________________________________________\n"
     ]
    }
   ],
   "source": [
    "GAN_model = Model( generator_input , discriminator_model( generator_model( generator_input ) ) )\n",
    "GAN_model.name = \"GAN_model\"\n",
    "GAN_model.summary()"
   ]
  },
  {
   "cell_type": "markdown",
   "metadata": {},
   "source": [
    "## Compile Model"
   ]
  },
  {
   "cell_type": "code",
   "execution_count": 10,
   "metadata": {},
   "outputs": [],
   "source": [
    "# Parameter About Training\n",
    "enable_report = True\n",
    "round_train = 2\n",
    "batch_check_point = 10\n",
    "epochs_discriminator = 1\n",
    "epochs_GAN = 2\n",
    "verbose = 1 # 0 is silencs 1 is progress bar 2 is result?\n",
    "batch_size = 2048\n",
    "round_batch = int( np.ceil( len(X_data) / batch_size) )\n",
    "list_latent_vector = []\n",
    "size_latent_vector = (  batch_size , latent_size )\n",
    "real_image = np.array( X_data ).astype( np.float ) / 255"
   ]
  },
  {
   "cell_type": "code",
   "execution_count": 11,
   "metadata": {},
   "outputs": [],
   "source": [
    "GAN_optimizer = RMSprop( lr = 0.0005 )\n",
    "#GAN_optimizer = Adam( lr = 0.0005 )\n",
    "GAN_model.compile( optimizer = GAN_optimizer,\n",
    "                     loss = \"binary_crossentropy\", \n",
    "                     metrics=[ 'accuracy' ] )\n",
    "discriminator_optimizer = RMSprop( lr = 0.0005 )\n",
    "#discriminator_optimizer = Adam( lr = 0.0005 )\n",
    "discriminator_model.compile( optimizer = discriminator_optimizer,\n",
    "                     loss = \"binary_crossentropy\", \n",
    "                     metrics=[ 'accuracy' ] )"
   ]
  },
  {
   "cell_type": "code",
   "execution_count": 12,
   "metadata": {},
   "outputs": [],
   "source": [
    "GAN_model.load_weights( \"temporary_checkpoint_weights.h5\")"
   ]
  },
  {
   "cell_type": "markdown",
   "metadata": {},
   "source": [
    "## Train Model"
   ]
  },
  {
   "cell_type": "code",
   "execution_count": null,
   "metadata": {},
   "outputs": [
    {
     "name": "stdout",
     "output_type": "stream",
     "text": [
      "At 20/32 round 1/2\n",
      "=disciminator : loss 0.6936211896128952 and accuracy 0.492919921875\n",
      "==========gan : loss 0.6964110851287841 and accuracy 0.44999998807907104\n"
     ]
    },
    {
     "name": "stderr",
     "output_type": "stream",
     "text": [
      "Clipping input data to the valid range for imshow with RGB data ([0..1] for floats or [0..255] for integers).\n",
      "Clipping input data to the valid range for imshow with RGB data ([0..1] for floats or [0..255] for integers).\n",
      "Clipping input data to the valid range for imshow with RGB data ([0..1] for floats or [0..255] for integers).\n",
      "Clipping input data to the valid range for imshow with RGB data ([0..1] for floats or [0..255] for integers).\n",
      "Clipping input data to the valid range for imshow with RGB data ([0..1] for floats or [0..255] for integers).\n",
      "Clipping input data to the valid range for imshow with RGB data ([0..1] for floats or [0..255] for integers).\n",
      "Clipping input data to the valid range for imshow with RGB data ([0..1] for floats or [0..255] for integers).\n",
      "Clipping input data to the valid range for imshow with RGB data ([0..1] for floats or [0..255] for integers).\n",
      "Clipping input data to the valid range for imshow with RGB data ([0..1] for floats or [0..255] for integers).\n",
      "Clipping input data to the valid range for imshow with RGB data ([0..1] for floats or [0..255] for integers).\n"
     ]
    },
    {
     "data": {
      "image/png": "[encoded data removed]",
      "text/plain": [
       "<Figure size 432x288 with 10 Axes>"
      ]
     },
     "metadata": {
      "needs_background": "light"
     },
     "output_type": "display_data"
    },
    {
     "name": "stdout",
     "output_type": "stream",
     "text": [
      "===> discriminator\n",
      "Epoch 1/1\n",
      "4096/4096 [==============================] - 14s 3ms/step - loss: 0.6933 - accuracy: 0.5068\n",
      "===> GAN\n",
      "Epoch 1/2\n",
      "2048/2048 [==============================] - 15s 8ms/step - loss: 0.6818 - accuracy: 1.0000\n",
      "Epoch 2/2\n",
      "2048/2048 [==============================] - 13s 6ms/step - loss: 0.6818 - accuracy: 1.0000\n",
      "===> discriminator\n",
      "Epoch 1/1\n",
      "4096/4096 [==============================] - 14s 3ms/step - loss: 0.6934 - accuracy: 0.4893\n",
      "===> GAN\n",
      "Epoch 1/2\n",
      "2048/2048 [==============================] - 16s 8ms/step - loss: 0.6958 - accuracy: 0.0000e+00\n",
      "Epoch 2/2\n",
      "2048/2048 [==============================] - 11s 6ms/step - loss: 0.6958 - accuracy: 0.0000e+00\n",
      "===> discriminator\n",
      "Epoch 1/1\n",
      "4096/4096 [==============================] - 13s 3ms/step - loss: 0.6933 - accuracy: 0.4980\n",
      "===> GAN\n",
      "Epoch 1/2\n",
      "2048/2048 [==============================] - 18s 9ms/step - loss: 0.7043 - accuracy: 0.0000e+00\n",
      "Epoch 2/2\n",
      "2048/2048 [==============================] - 13s 6ms/step - loss: 0.7043 - accuracy: 0.0000e+00\n",
      "===> discriminator\n",
      "Epoch 1/1\n",
      "4096/4096 [==============================] - 15s 4ms/step - loss: 0.6934 - accuracy: 0.4819\n",
      "===> GAN\n",
      "Epoch 1/2\n",
      "2048/2048 [==============================] - 14s 7ms/step - loss: 0.7039 - accuracy: 0.0000e+00\n",
      "Epoch 2/2\n",
      "2048/2048 [==============================] - 14s 7ms/step - loss: 0.7039 - accuracy: 0.0000e+00\n",
      "===> discriminator\n",
      "Epoch 1/1\n",
      "4096/4096 [==============================] - 13s 3ms/step - loss: 0.6933 - accuracy: 0.4990\n",
      "===> GAN\n",
      "Epoch 1/2\n",
      "2048/2048 [==============================] - 7s 3ms/step - loss: 0.7097 - accuracy: 0.0000e+00\n",
      "Epoch 2/2\n",
      "2048/2048 [==============================] - 5s 3ms/step - loss: 0.7097 - accuracy: 0.0000e+00\n",
      "===> discriminator\n",
      "Epoch 1/1\n",
      "3136/4096 [=====================>........] - ETA: 2s - loss: 0.6933 - accuracy: 0.4990"
     ]
    }
   ],
   "source": [
    "discriminator_history = { 'loss' : [] , 'accuracy' : [] }\n",
    "gan_history = { 'loss' : [] , 'accuracy' : [] }\n",
    "for count_round in range( round_train ):\n",
    "    discriminator_loss = []\n",
    "    discriminator_accuracy = []\n",
    "    gan_loss = []\n",
    "    gan_accuracy = []\n",
    "\n",
    "    start = 0\n",
    "    count_latent = 0\n",
    "#    all_latent_vector = np.random.normal( 0 , 1 , size = ( round_batch , size_latent_vector[0] , size_latent_vector[1]) )\n",
    "    while( start < real_image.shape[0] ):\n",
    "#        latent_vector = np.random.randint( 0 , 256 , size = size_latent_vector ).astype( np.float ) / 255\n",
    "        latent_vector = np.random.normal( 0 , 1 , size= size_latent_vector )\n",
    "#        latent_vector = all_latent_vector[ count_latent ]\n",
    "        fake_image = generator_model.predict( latent_vector )\n",
    "        if count_latent % batch_check_point == 0 :\n",
    "            fig, axes = plt.subplots(2, 5)\n",
    "            temp = 0\n",
    "            for i in range(2):\n",
    "                for j in range(5):\n",
    "                    axes[i, j].imshow(fake_image[temp] ) \n",
    "                    axes[i, j].axis('off')\n",
    "                    temp += 1\n",
    "            plt.show()\n",
    "        \n",
    "#        print( f'Data batch index {count_latent+1}/{round_batch} on round {count_round+1}/{round_train}')\n",
    "        stop = start + batch_size\n",
    "        if stop > real_image.shape[0] : stop = real_image.shape[0]\n",
    "\n",
    "        all_image = np.concatenate( [ real_image[ start:stop ],\n",
    "                    fake_image ] )\n",
    "        label_image = np.concatenate( [\n",
    "                np.ones( ( stop - start , 1 ) ),\n",
    "                np.zeros( ( size_latent_vector[0] , 1 ) )\n",
    "            ] )\n",
    "#        label_image += 0.05 * np.random.random( label_image.shape )    \n",
    "        # Train Discriminator\n",
    "        if enable_report : print( \"===> discriminator\" , end = \"\" if verbose == 0 else \"\\n\" )\n",
    "#        d_loss , d_accuracy = discriminator_model.train_on_batch( all_image , label_image )\n",
    "        d_history = discriminator_model.fit( all_image , label_image, epochs = epochs_discriminator, verbose = verbose )\n",
    "        if verbose == 0 and enable_report:\n",
    "            print( f' Loss {np.mean(d_history.history[\"loss\"]):10.6f} Accuracy {np.mean(d_history.history[\"accuracy\"]):10.6f}')\n",
    "\n",
    "            \n",
    "#======= Train Generator\n",
    "        \n",
    "        ## Before train must to disable train discriminator\n",
    "        discriminator_model.trainable = False\n",
    "        GAN_model.compile( optimizer = GAN_optimizer,\n",
    "                        loss = \"binary_crossentropy\", \n",
    "                        metrics=[ 'accuracy' ] )\n",
    "        discriminator_model.compile( optimizer = discriminator_optimizer,\n",
    "                        loss = \"binary_crossentropy\", \n",
    "                        metrics=[ 'accuracy' ] )\n",
    "        ## End part disable train discriminator\n",
    "        \n",
    "        if enable_report : print( \"===> GAN\" , end = \"\" if verbose == 0 else \"\\n\" )        \n",
    "#        latent_vector = np.random.randint( 0 , 256 , size = size_latent_vector ).astype( np.float ) / 255\n",
    "        latent_vector = np.random.normal( 0 , 1 , size= size_latent_vector )\n",
    "        g_history = GAN_model.fit( latent_vector, np.ones( ( size_latent_vector[0] , 1 ) ),\n",
    "                                  epochs = epochs_GAN ,\n",
    "                                  verbose = verbose )\n",
    "#        g_loss , g_accuracy = GAN_model.train_on_batch( latent_vector, np.ones( ( size_latent_vector[0] , 1 ) ) )\n",
    "        if verbose == 0 and enable_report :\n",
    "            print( f' Loss {np.mean(g_history.history[\"loss\"]):10.6f} Accuracy {np.mean(g_history.history[\"accuracy\"]):10.6f}')\n",
    "            \n",
    "        ## After train must to enable train discriminator\n",
    "        discriminator_model.trainable = True\n",
    "        GAN_model.compile( optimizer = GAN_optimizer,\n",
    "                        loss = \"binary_crossentropy\", \n",
    "                        metrics=[ 'accuracy' ] )\n",
    "        discriminator_model.compile( optimizer = discriminator_optimizer,\n",
    "                        loss = \"binary_crossentropy\", \n",
    "                        metrics=[ 'accuracy' ] )\n",
    "\n",
    "#======== Part add data to report\n",
    "#        discriminator_loss.append( d_loss )\n",
    "#        discriminator_accuracy.append( d_accuracy )\n",
    "#        gan_loss.append( g_loss )\n",
    "#        gan_accuracy.append( g_accuracy )\n",
    "        discriminator_loss += d_history.history[ 'loss']\n",
    "        discriminator_accuracy += d_history.history[ 'accuracy' ]\n",
    "        gan_loss += g_history.history[ 'loss' ]\n",
    "        gan_accuracy += g_history.history[ 'accuracy' ]\n",
    "        start = stop        \n",
    "        count_latent += 1\n",
    "        \n",
    "        if count_latent % batch_check_point == 0 :\n",
    "            clear_output()\n",
    "            print( f'At {count_latent}/{round_batch} round {count_round+1}/{round_train}')\n",
    "            print( f'=disciminator : loss {np.mean( discriminator_loss ) } and accuracy {np.mean( discriminator_accuracy ) }' )\n",
    "            print( f'==========gan : loss {np.mean(gan_loss)} and accuracy {np.mean(gan_accuracy) }')        \n",
    "        \n",
    "        if count_latent % (batch_check_point * 2 ) == 0:\n",
    "            GAN_model.save_weights( \"temporary_checkpoint_weights.h5\")\n",
    "            GAN_model.save( \"temporary_checkpoint_model.h5\")   \n",
    "         \n",
    "    clear_output()\n",
    "    print( f'Summary round {count_round+1}/{round_train}')  \n",
    "    print( f'=disciminator : loss {np.mean( discriminator_loss ) } and accuracy {np.mean( discriminator_accuracy ) }' )\n",
    "    print( f'==========gan : loss {np.mean(gan_loss)} and accuracy {np.mean(gan_accuracy) }')\n",
    "    GAN_model.save_weights( \"temporary_checkpoint_weights.h5\")\n",
    "    GAN_model.save( \"temporary_checkpoint_model.h5\")\n",
    "    \n",
    "    discriminator_history['loss'].append( discriminator_loss )\n",
    "    discriminator_history['accuracy'].append( discriminator_accuracy )\n",
    "    gan_history['loss'].append( gan_loss )\n",
    "    gan_history['accuracy'].append( gan_accuracy )"
   ]
  },
  {
   "cell_type": "code",
   "execution_count": null,
   "metadata": {},
   "outputs": [],
   "source": [
    "GAN_model.layers"
   ]
  },
  {
   "cell_type": "code",
   "execution_count": null,
   "metadata": {},
   "outputs": [],
   "source": [
    "generator_model"
   ]
  },
  {
   "cell_type": "code",
   "execution_count": null,
   "metadata": {},
   "outputs": [],
   "source": [
    "latent_random = np.random.normal( 0 , 1 , size=( 10 , latent_size ))\n",
    "#latent_random = np.random.randint( 0 , 256 , size = ( 10 , latent_size ) ).astype( np.float ) / 255\n",
    "DataHandle.plot( latent_random , generator_model , dest_type = float )"
   ]
  },
  {
   "cell_type": "code",
   "execution_count": null,
   "metadata": {},
   "outputs": [],
   "source": []
  }
 ],
 "metadata": {
  "kernelspec": {
   "display_name": "Python 3",
   "language": "python",
   "name": "python3"
  },
  "language_info": {
   "codemirror_mode": {
    "name": "ipython",
    "version": 3
   },
   "file_extension": ".py",
   "mimetype": "text/x-python",
   "name": "python",
   "nbconvert_exporter": "python",
   "pygments_lexer": "ipython3",
   "version": "3.7.6"
  }
 },
 "nbformat": 4,
 "nbformat_minor": 4
}
