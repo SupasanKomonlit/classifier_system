{
 "cells": [
  {
   "cell_type": "markdown",
   "metadata": {},
   "source": [
    "# AUTOENCODER\n",
    "This file have purpose to anlysys performance of autoencoder model\n",
    "\n",
    "reference : https://towardsdatascience.com/generating-new-faces-with-variational-autoencoders-d13cfcb5f0a8\n",
    "# Header Program"
   ]
  },
  {
   "cell_type": "code",
   "execution_count": 1,
   "metadata": {},
   "outputs": [
    {
     "name": "stderr",
     "output_type": "stream",
     "text": [
      "Using TensorFlow backend.\n"
     ]
    }
   ],
   "source": [
    "# Import library create by mysel\n",
    "from library.directory_handle import DirectoryHandle\n",
    "import library.image_handle as ImageHandle\n",
    "import library.data_handle as DataHandle\n",
    "\n",
    "# Import library for plot image\n",
    "import matplotlib.pyplot as plt\n",
    "\n",
    "# Import library for manage model part Core Layers\n",
    "from keras.layers import Input, Flatten, Dense, Reshape, Lambda\n",
    "# Import library for manage model part Convolution Layers\n",
    "from keras.layers import Conv2D, Conv2DTranspose\n",
    "# Import Library for manage model part Model Object\n",
    "from keras.models import Model\n",
    "# Import Library for manage model part optimizer\n",
    "from keras.optimizers import Adam\n",
    "# Import Library about model \n",
    "from keras.utils import plot_model\n",
    "# Import library for load model\n",
    "from keras.models import load_model\n",
    "# Import library operation in Keras tensor object\n",
    "from keras import backend as K\n",
    "\n",
    "#Import library for normal process\n",
    "import numpy as np"
   ]
  },
  {
   "cell_type": "markdown",
   "metadata": {},
   "source": [
    "# Classification\n",
    "## Part prepare data"
   ]
  },
  {
   "cell_type": "code",
   "execution_count": null,
   "metadata": {},
   "outputs": [],
   "source": [
    "# Constant data path to collect directory data\n",
    "PATH_DATA = \"/home/zeabus/Documents/supasan/2019_deep_learning/PokemonData\" \n",
    "\n",
    "# Part parameter in normal program will require to input\n",
    "crop = True\n",
    "color = True\n",
    "rounds = 10 # Round to train data (epoches)"
   ]
  },
  {
   "cell_type": "code",
   "execution_count": null,
   "metadata": {},
   "outputs": [],
   "source": [
    "# Process Read data \n",
    "directory_handle = DirectoryHandle( PATH_DATA )\n",
    "list_label , list_data = directory_handle.group_data()\n",
    "list_dictionary = directory_handle.group_dictionary()"
   ]
  },
  {
   "cell_type": "code",
   "execution_count": null,
   "metadata": {},
   "outputs": [],
   "source": [
    "width = []\n",
    "height = []\n",
    "for data in list_data:\n",
    "    width , height = ImageHandle.read_size( data , width , height )\n",
    "plt.scatter( width , height )"
   ]
  },
  {
   "cell_type": "code",
   "execution_count": null,
   "metadata": {},
   "outputs": [],
   "source": [
    "smallest_size = ImageHandle.min_all_square_size1( list_data )\n",
    "smallest_size = smallest_size if smallest_size % 2 == 0 else smallest_size - 1\n",
    "latent_size = int( smallest_size * smallest_size / 4 )\n",
    "latent_size = latent_size * 3 if color else latent_size\n",
    "print(f'Will manage by resize image to smallest size {smallest_size} square and have latent size {latent_size}')\n",
    "\n",
    "input_dim = ( smallest_size , smallest_size , 3 if color else 1 )\n",
    "\n",
    "X_data , Y_data = ImageHandle.prepare_label_data( list_label , list_data , smallest_size , color = color , crop = crop )"
   ]
  },
  {
   "cell_type": "code",
   "execution_count": null,
   "metadata": {},
   "outputs": [],
   "source": [
    "# Before train data first time must split data for train and test\n",
    "(X_train,Y_train) , (X_test,Y_test) = DataHandle.train_test_split( X_data , Y_data , 8 )\n",
    "print(f'From {len(X_data)} datas split for train {len(X_train)} and test {len(X_test)}')"
   ]
  },
  {
   "cell_type": "markdown",
   "metadata": {},
   "source": [
    "## Part Autoencoder Model\n",
    "Above part is part prepare data for train test and analysis"
   ]
  },
  {
   "cell_type": "code",
   "execution_count": null,
   "metadata": {},
   "outputs": [],
   "source": [
    "# Set up model part encoder\n",
    "encoder_input = Input( shape = input_dim , name = 'encode_input' )\n",
    "encoder = encoder_input\n",
    "encoder = Conv2D( filters = 64,\n",
    "                kernel_size = (3,3),\n",
    "                strides=2,\n",
    "                padding='same',\n",
    "                activation='relu',\n",
    "                name = \"encoder_convolution_1\")(encoder)\n",
    "encoder = Conv2D( filters = 32,\n",
    "                kernel_size = (3,3),\n",
    "                strides=1,\n",
    "                padding='same',\n",
    "                activation='relu',\n",
    "                name = \"encoder_convolution_2\")(encoder)\n",
    "encoder = Conv2D( filters = 16,\n",
    "                kernel_size = (3,3),\n",
    "                strides=1,\n",
    "                padding='same',\n",
    "                activation='relu',\n",
    "                name = \"encoder_convolution_3\")(encoder)\n",
    "shape_before_flatten = (int(smallest_size/2) , int(smallest_size/2) , 16)\n",
    "encoder = Flatten()(encoder)\n",
    "encoder_output = Dense( latent_size , name = \"encoder_output\")(encoder)\n",
    "\n",
    "encoder_model = Model( encoder_input , encoder_output )\n",
    "encoder_model.name = \"encoder_model\"\n",
    "encoder_model.summary()"
   ]
  },
  {
   "cell_type": "code",
   "execution_count": null,
   "metadata": {},
   "outputs": [],
   "source": [
    "decoder_input = Input( shape = (latent_size,) , name ='decoder_input')\n",
    "decoder = Dense( np.prod(shape_before_flatten) , name='decoder_input_convolution' )(decoder_input)\n",
    "decoder = Reshape( shape_before_flatten , name='decoder_input_reshape')(decoder)\n",
    "decoder = Conv2DTranspose( filters = 32,\n",
    "                        kernel_size = (3,3),\n",
    "                        strides=1,\n",
    "                        padding='same',\n",
    "                        name='decoder_convolution_1',\n",
    "                        activation='relu')(decoder)\n",
    "decoder = Conv2DTranspose( filters = 64,\n",
    "                        kernel_size = (3,3),\n",
    "                        strides=2,\n",
    "                        padding='same',\n",
    "                        name='decoder_convolution_2',\n",
    "                        activation='relu')(decoder)\n",
    "decoder_output = Conv2DTranspose( filters = 3 if color else 1,\n",
    "                        kernel_size = (3,3),\n",
    "                        strides=1,\n",
    "                        padding='same',\n",
    "                        name='decoder_output',\n",
    "                        activation='relu')(decoder)\n",
    "decoder_model = Model( decoder_input , decoder_output )\n",
    "decoder_model.name = \"decoder_model\"\n",
    "decoder_model.summary()"
   ]
  },
  {
   "cell_type": "code",
   "execution_count": null,
   "metadata": {},
   "outputs": [],
   "source": [
    "autoencoder = Model( encoder_input , decoder_model(encoder_output) )\n",
    "autoencoder.summary()"
   ]
  },
  {
   "cell_type": "markdown",
   "metadata": {},
   "source": [
    "## Train Model"
   ]
  },
  {
   "cell_type": "code",
   "execution_count": null,
   "metadata": {},
   "outputs": [],
   "source": [
    "optimizer = Adam( lr = 0.0005 ) # set learning\n",
    "autoencoder.compile( optimizer=optimizer,\n",
    "                    loss='mean_squared_error',\n",
    "                    metrics=['accuracy'])\n",
    "history = autoencoder.fit( [X_train], # Input\n",
    "                          [X_train], # Output\n",
    "                         validation_data=( [X_test] , [X_test]),\n",
    "                         epochs = rounds )"
   ]
  },
  {
   "cell_type": "code",
   "execution_count": null,
   "metadata": {},
   "outputs": [],
   "source": [
    "# Plot traing & validation accuracy\n",
    "plt.plot(history.history['accuracy'])\n",
    "plt.plot(history.history['val_accuracy'])\n",
    "plt.title('Model accuracy')\n",
    "plt.ylabel('Accuracy')\n",
    "plt.xlabel('Epoch')\n",
    "plt.legend(['Train', 'Test'], loc='upper left')\n",
    "plt.show()e\n",
    "\n",
    "# Plot training & validation loss values\n",
    "plt.plot(history.history['loss'])\n",
    "plt.plot(history.history['val_loss'])\n",
    "plt.title('Model loss')\n",
    "plt.ylabel('Loss')\n",
    "plt.xlabel('Epoch')\n",
    "plt.legend(['Train', 'Test'], loc='upper left')\n",
    "plt.show()"
   ]
  },
  {
   "cell_type": "code",
   "execution_count": null,
   "metadata": {},
   "outputs": [],
   "source": [
    "autoencoder.save( \"classifier/pokemon_autoencoder.h5\")"
   ]
  },
  {
   "cell_type": "markdown",
   "metadata": {},
   "source": [
    "## Result Model"
   ]
  },
  {
   "cell_type": "code",
   "execution_count": null,
   "metadata": {},
   "outputs": [],
   "source": [
    "autoencoder = load_model( \"classifier/pokemon_autoencoder.h5\" )"
   ]
  },
  {
   "cell_type": "code",
   "execution_count": null,
   "metadata": {},
   "outputs": [],
   "source": [
    "random_index = []\n",
    "for _ in range(0,10):\n",
    "    random_index.append( np.random.randint( len( X_test)))\n",
    "random_index = tuple( set( random_index ) )\n",
    "data = []\n",
    "for index in random_index :\n",
    "    data.append( X_test[ index ] )\n",
    "data = np.array( data )"
   ]
  },
  {
   "cell_type": "code",
   "execution_count": null,
   "metadata": {},
   "outputs": [],
   "source": [
    "DataHandle.plot_compare( data , autoencoder )"
   ]
  },
  {
   "cell_type": "markdown",
   "metadata": {},
   "source": [
    "## Part Classifier Model\n",
    "Above part is model for autoencoder below part will push Fully Connected Layer for classifier"
   ]
  },
  {
   "cell_type": "code",
   "execution_count": null,
   "metadata": {},
   "outputs": [],
   "source": [
    "classifier_input = Input( shape = (latent_size,) , name = \"classifier_input\" )\n",
    "classifier = Dense( int( latent_size / 2 ), \n",
    "        activation='relu',\n",
    "        name = 'classifier_network_1' )( classifier_input )\n",
    "classifier_output = Dense( len(list_label),\n",
    "        activation='softmax',\n",
    "        name = 'classifier_output' )( classifier )\n",
    "\n",
    "classifier_model = Model( classifier_input , classifier_output )\n",
    "classifier_model.name = \"fully_connected\"\n",
    "classifier_model.summary()"
   ]
  },
  {
   "cell_type": "code",
   "execution_count": null,
   "metadata": {},
   "outputs": [],
   "source": [
    "classifier = Model( encoder_input , classifier_model( encoder_output ) )\n",
    "classifier.name = \"classifier_model\"\n",
    "optimizer = Adam( lr = 0.0005 ) # set learning\n",
    "classifier.compile( optimizer=optimizer,\n",
    "                    loss='categorical_crossentropy',\n",
    "                    metrics=['accuracy'])\n",
    "classifier.summary()"
   ]
  },
  {
   "cell_type": "code",
   "execution_count": null,
   "metadata": {},
   "outputs": [],
   "source": [
    "# Next we will save weights\n",
    "for run in range( 0 , len( classifier.layers ) - 1 ):\n",
    "    classifier.layers[ run ].set_weights( autoencoder.layers[run].get_weights() )\n",
    "    classifier.layers[ run ].trainable = False\n",
    "classifier.summary()"
   ]
  },
  {
   "cell_type": "code",
   "execution_count": null,
   "metadata": {},
   "outputs": [],
   "source": [
    "history = classifier.fit( [X_train], # Input\n",
    "                          [Y_train], # Output\n",
    "                         validation_data=( [X_test] , [Y_test]),\n",
    "                         epochs = rounds )"
   ]
  },
  {
   "cell_type": "code",
   "execution_count": null,
   "metadata": {},
   "outputs": [],
   "source": [
    "classifier.save( \"classifier/pokemon_autoencoder_classifier.h5\")"
   ]
  },
  {
   "cell_type": "markdown",
   "metadata": {},
   "source": [
    "## Result Model Classifier on AutoEncoder"
   ]
  },
  {
   "cell_type": "code",
   "execution_count": null,
   "metadata": {},
   "outputs": [],
   "source": [
    "classifier = load_model( \"classifier/pokemon_autoencoder_classifier.h5\" )\n",
    "predict = classifier.predict( [X_test] )"
   ]
  },
  {
   "cell_type": "code",
   "execution_count": null,
   "metadata": {},
   "outputs": [],
   "source": [
    "DataHandle.result_classifier( predict , np.array( Y_test ) , list_dictionary )"
   ]
  },
  {
   "cell_type": "markdown",
   "metadata": {},
   "source": [
    "# Genarator Variational Autoencoder\n",
    "\n",
    "## prepare data"
   ]
  },
  {
   "cell_type": "code",
   "execution_count": 2,
   "metadata": {},
   "outputs": [],
   "source": [
    "# Constant data path to collect directory data\n",
    "PATH_DATA = \"/home/zeabus/Documents/supasan/2019_deep_learning/AnimeFaceData\" \n",
    "\n",
    "# Part parameter in normal program will require to input\n",
    "crop = True\n",
    "color = True\n",
    "rounds = 10 # Round to train data (epoches)"
   ]
  },
  {
   "cell_type": "code",
   "execution_count": 3,
   "metadata": {},
   "outputs": [
    {
     "data": {
      "text/plain": [
       "<matplotlib.collections.PathCollection at 0x7ff6d5290710>"
      ]
     },
     "execution_count": 3,
     "metadata": {},
     "output_type": "execute_result"
    },
    {
     "data": {
      "image/png": "[encoded data removed]",
      "text/plain": [
       "<Figure size 432x288 with 1 Axes>"
      ]
     },
     "metadata": {
      "needs_background": "light"
     },
     "output_type": "display_data"
    }
   ],
   "source": [
    "directory_handle = DirectoryHandle( PATH_DATA )\n",
    "list_file = directory_handle.get_all_file()\n",
    "\n",
    "width , height = ImageHandle.read_size( list_file )\n",
    "width = np.array( width )\n",
    "height = np.array( height )\n",
    "plt.scatter( width , height )"
   ]
  },
  {
   "cell_type": "code",
   "execution_count": 4,
   "metadata": {},
   "outputs": [
    {
     "name": "stdout",
     "output_type": "stream",
     "text": [
      "Will manage by resize image to size 26 square and have latent size 507\n"
     ]
    }
   ],
   "source": [
    "square_size = int( np.ceil( width.min() ) )\n",
    "square_size = square_size if square_size % 2 == 0 else square_size + 1\n",
    "latent_size = int( np.power( square_size , 2 ) / 4 * 3 )\n",
    "print(f'Will manage by resize image to size {square_size} square and have latent size {latent_size}')"
   ]
  },
  {
   "cell_type": "code",
   "execution_count": 5,
   "metadata": {},
   "outputs": [],
   "source": [
    "input_dim = ( square_size , square_size , 3  )\n",
    "\n",
    "X_data = ImageHandle.read_all_data( list_file , square_size , color = color , crop = crop )\n",
    "X_train , X_test = DataHandle.split_data( X_data , 18 )"
   ]
  },
  {
   "cell_type": "markdown",
   "metadata": {},
   "source": [
    "## Part Autoencoder Model\n",
    "### Part Encoder Model"
   ]
  },
  {
   "cell_type": "code",
   "execution_count": null,
   "metadata": {},
   "outputs": [],
   "source": [
    "# Set up model part encoder\n",
    "encoder_input = Input( shape = input_dim , name = 'encode_input' )\n",
    "encoder = encoder_input\n",
    "encoder = Conv2D( filters = 64,\n",
    "                kernel_size = (3,3),\n",
    "                strides=2,\n",
    "                padding='same',\n",
    "                activation='relu',\n",
    "                name = \"encoder_convolution_1\")(encoder)\n",
    "encoder = Conv2D( filters = 32,\n",
    "                kernel_size = (3,3),\n",
    "                strides=1,\n",
    "                padding='same',\n",
    "                activation='relu',\n",
    "                name = \"encoder_convolution_2\")(encoder)\n",
    "encoder = Conv2D( filters = 16,\n",
    "                kernel_size = (3,3),\n",
    "                strides=1,\n",
    "                padding='same',\n",
    "                activation='relu',\n",
    "                name = \"encoder_convolution_3\")(encoder)\n",
    "encoder = Flatten()(encoder)\n",
    "encoder_output = Dense( latent_size , name = \"encoder_output\")(encoder)\n",
    "\n",
    "encoder_model = Model( encoder_input , encoder_output )\n",
    "encoder_model.name = \"encoder_model\"\n",
    "encoder_model.summary()\n",
    "shape_before_flatten = encoder_model.layers[-3].output_shape[1:]"
   ]
  },
  {
   "cell_type": "markdown",
   "metadata": {},
   "source": [
    "### Part Decoder Model"
   ]
  },
  {
   "cell_type": "code",
   "execution_count": null,
   "metadata": {},
   "outputs": [],
   "source": [
    "decoder_input = Input( shape = (latent_size,) , name ='decoder_input')\n",
    "decoder = Dense( np.prod(shape_before_flatten) , name='decoder_input_convolution' )(decoder_input)\n",
    "decoder = Reshape( shape_before_flatten , name='decoder_input_reshape')(decoder)\n",
    "decoder = Conv2DTranspose( filters = 32,\n",
    "                        kernel_size = (3,3),\n",
    "                        strides=1,\n",
    "                        padding='same',\n",
    "                        name='decoder_convolution_1',\n",
    "                        activation='relu')(decoder)\n",
    "decoder = Conv2DTranspose( filters = 64,\n",
    "                        kernel_size = (3,3),\n",
    "                        strides=2,\n",
    "                        padding='same',\n",
    "                        name='decoder_convolution_2',\n",
    "                        activation='relu')(decoder)\n",
    "decoder_output = Conv2DTranspose( filters = 3 if color else 1,\n",
    "                        kernel_size = (3,3),\n",
    "                        strides=1,\n",
    "                        padding='same',\n",
    "                        name='decoder_output',\n",
    "                        activation='relu')(decoder)\n",
    "decoder_model = Model( decoder_input , decoder_output )\n",
    "decoder_model.name = \"decoder_model\"\n",
    "decoder_model.summary()"
   ]
  },
  {
   "cell_type": "markdown",
   "metadata": {},
   "source": [
    "### Part Auto Encoder Model"
   ]
  },
  {
   "cell_type": "code",
   "execution_count": null,
   "metadata": {},
   "outputs": [],
   "source": [
    "autoencoder = Model( encoder_input , decoder_model(encoder_output) )\n",
    "autoencoder.name = \"autoencoder_model\"\n",
    "autoencoder.summary()"
   ]
  },
  {
   "cell_type": "markdown",
   "metadata": {},
   "source": [
    "## Train Model"
   ]
  },
  {
   "cell_type": "code",
   "execution_count": null,
   "metadata": {},
   "outputs": [],
   "source": [
    "optimizer = Adam( lr = 0.0005 ) # set learning\n",
    "autoencoder.compile( optimizer=optimizer,\n",
    "                    loss='mean_squared_error',\n",
    "                    metrics=['accuracy'])\n",
    "history = autoencoder.fit( [X_train], # Input\n",
    "                          [X_train], # Output\n",
    "                         validation_data=( [X_test] , [X_test]),\n",
    "                         epochs = rounds )"
   ]
  },
  {
   "cell_type": "code",
   "execution_count": null,
   "metadata": {},
   "outputs": [],
   "source": [
    "# Plot traing & validation accuracy\n",
    "plt.plot(history.history['accuracy'])\n",
    "plt.plot(history.history['val_accuracy'])\n",
    "plt.title('Model accuracy')\n",
    "plt.ylabel('Accuracy')\n",
    "plt.xlabel('Epoch')\n",
    "plt.legend(['Train', 'Test'], loc='upper left')\n",
    "plt.show()\n",
    "\n",
    "# Plot training & validation loss values\n",
    "plt.plot(history.history['loss'])\n",
    "plt.plot(history.history['val_loss'])\n",
    "plt.title('Model loss')\n",
    "plt.ylabel('Loss')\n",
    "plt.xlabel('Epoch')\n",
    "plt.legend(['Train', 'Test'], loc='upper left')\n",
    "plt.show()"
   ]
  },
  {
   "cell_type": "code",
   "execution_count": null,
   "metadata": {},
   "outputs": [],
   "source": [
    "autoencoder.save( \"generator/anime_autoencoder.h5\")"
   ]
  },
  {
   "cell_type": "markdown",
   "metadata": {},
   "source": [
    "## Result Model"
   ]
  },
  {
   "cell_type": "code",
   "execution_count": null,
   "metadata": {},
   "outputs": [],
   "source": [
    "autoencoder = load_model(\"generator/anime_autoencoder.h5\")"
   ]
  },
  {
   "cell_type": "code",
   "execution_count": null,
   "metadata": {},
   "outputs": [],
   "source": [
    "random_index = []\n",
    "for _ in range(0,10):\n",
    "    random_index.append( np.random.randint( len( X_test)))\n",
    "random_index = tuple( set( random_index ) )\n",
    "data = []\n",
    "for index in random_index :\n",
    "    data.append( X_test[ index ] )\n",
    "data = np.array( data )\n",
    "DataHandle.plot_compare( data , autoencoder )"
   ]
  },
  {
   "cell_type": "code",
   "execution_count": null,
   "metadata": {},
   "outputs": [],
   "source": [
    "def generate_images_from_noise( decoder , n_to_show = 10 ): \n",
    "    reconst_images = decoder.predict( np.random.randint( low = 0 , high = 256 , size = ( n_to_show , latent_size ) ) )\n",
    "\n",
    "    fig = plt.figure(figsize=(15, 3))\n",
    "    fig.subplots_adjust(hspace=0.4, wspace=0.4)\n",
    "\n",
    "    for i in range(n_to_show):\n",
    "        img = reconst_images[i].squeeze()\n",
    "        sub = fig.add_subplot(2, n_to_show, i+1)\n",
    "        sub.axis('off')        \n",
    "        sub.imshow(img)\n",
    "\n",
    "generate_images_from_noise( autoencoder.layers[-1] , 10 ) "
   ]
  },
  {
   "cell_type": "markdown",
   "metadata": {},
   "source": [
    "## Recreate Model VAE\n",
    "### Part Variational Encoder"
   ]
  },
  {
   "cell_type": "code",
   "execution_count": 6,
   "metadata": {},
   "outputs": [],
   "source": [
    "# Function output of Variational Encoder\n",
    "def sampling( args ):\n",
    "    mean , variance = args\n",
    "    epsilon = K.random_normal( shape=K.shape( mean ) , mean=0 , stddev=1. )\n",
    "    return mean + K.exp( variance/2)*epsilon"
   ]
  },
  {
   "cell_type": "code",
   "execution_count": 7,
   "metadata": {},
   "outputs": [
    {
     "name": "stdout",
     "output_type": "stream",
     "text": [
      "Model: \"encoder_model\"\n",
      "__________________________________________________________________________________________________\n",
      "Layer (type)                    Output Shape         Param #     Connected to                     \n",
      "==================================================================================================\n",
      "encode_input (InputLayer)       (None, 26, 26, 3)    0                                            \n",
      "__________________________________________________________________________________________________\n",
      "encoder_convolution_1 (Conv2D)  (None, 13, 13, 64)   1792        encode_input[0][0]               \n",
      "__________________________________________________________________________________________________\n",
      "encoder_convolution_2 (Conv2D)  (None, 13, 13, 32)   18464       encoder_convolution_1[0][0]      \n",
      "__________________________________________________________________________________________________\n",
      "encoder_convolution_3 (Conv2D)  (None, 13, 13, 16)   4624        encoder_convolution_2[0][0]      \n",
      "__________________________________________________________________________________________________\n",
      "flatten_1 (Flatten)             (None, 2704)         0           encoder_convolution_3[0][0]      \n",
      "__________________________________________________________________________________________________\n",
      "mean (Dense)                    (None, 507)          1371435     flatten_1[0][0]                  \n",
      "__________________________________________________________________________________________________\n",
      "variance (Dense)                (None, 507)          1371435     flatten_1[0][0]                  \n",
      "__________________________________________________________________________________________________\n",
      "encoder_output (Lambda)         (None, 507)          0           mean[0][0]                       \n",
      "                                                                 variance[0][0]                   \n",
      "==================================================================================================\n",
      "Total params: 2,767,750\n",
      "Trainable params: 2,767,750\n",
      "Non-trainable params: 0\n",
      "__________________________________________________________________________________________________\n"
     ]
    }
   ],
   "source": [
    "# Set up model part encoder\n",
    "encoder_input = Input( shape = input_dim , name = 'encode_input' )\n",
    "encoder = encoder_input\n",
    "encoder = Conv2D( filters = 64,\n",
    "                kernel_size = (3,3),\n",
    "                strides=2,\n",
    "                padding='same',\n",
    "                activation='relu',\n",
    "                name = \"encoder_convolution_1\")(encoder)\n",
    "encoder = Conv2D( filters = 32,\n",
    "                kernel_size = (3,3),\n",
    "                strides=1,\n",
    "                padding='same',\n",
    "                activation='relu',\n",
    "                name = \"encoder_convolution_2\")(encoder)\n",
    "encoder = Conv2D( filters = 16,\n",
    "                kernel_size = (3,3),\n",
    "                strides=1,\n",
    "                padding='same',\n",
    "                activation='relu',\n",
    "                name = \"encoder_convolution_3\")(encoder)\n",
    "encoder = Flatten()(encoder)\n",
    "\n",
    "# Adding layer in case VAE\n",
    "mean_layer = Dense( latent_size , name = \"mean\" )(encoder)\n",
    "variance_layer = Dense( latent_size , name = \"variance\")(encoder)\n",
    "\n",
    "encoder_output = Lambda( sampling , name='encoder_output')([mean_layer,variance_layer])\n",
    "\n",
    "encoder_model = Model( encoder_input , encoder_output )\n",
    "encoder_model.name = \"encoder_model\"\n",
    "encoder_model.summary()\n",
    "shape_before_flatten = encoder_model.layers[-5].output_shape[1:]"
   ]
  },
  {
   "cell_type": "markdown",
   "metadata": {},
   "source": [
    "### Part Decoder"
   ]
  },
  {
   "cell_type": "code",
   "execution_count": 8,
   "metadata": {},
   "outputs": [
    {
     "name": "stdout",
     "output_type": "stream",
     "text": [
      "Model: \"decoder_model\"\n",
      "_________________________________________________________________\n",
      "Layer (type)                 Output Shape              Param #   \n",
      "=================================================================\n",
      "decoder_input (InputLayer)   (None, 507)               0         \n",
      "_________________________________________________________________\n",
      "decoder_input_convolution (D (None, 2704)              1373632   \n",
      "_________________________________________________________________\n",
      "decoder_input_reshape (Resha (None, 13, 13, 16)        0         \n",
      "_________________________________________________________________\n",
      "decoder_convolution_1 (Conv2 (None, 13, 13, 32)        4640      \n",
      "_________________________________________________________________\n",
      "decoder_convolution_2 (Conv2 (None, 26, 26, 64)        18496     \n",
      "_________________________________________________________________\n",
      "decoder_output (Conv2DTransp (None, 26, 26, 3)         1731      \n",
      "=================================================================\n",
      "Total params: 1,398,499\n",
      "Trainable params: 1,398,499\n",
      "Non-trainable params: 0\n",
      "_________________________________________________________________\n"
     ]
    }
   ],
   "source": [
    "decoder_input = Input( shape = (latent_size,) , name ='decoder_input')\n",
    "decoder = Dense( np.prod(shape_before_flatten) , name='decoder_input_convolution' )(decoder_input)\n",
    "decoder = Reshape( shape_before_flatten , name='decoder_input_reshape')(decoder)\n",
    "decoder = Conv2DTranspose( filters = 32,\n",
    "                        kernel_size = (3,3),\n",
    "                        strides=1,\n",
    "                        padding='same',\n",
    "                        name='decoder_convolution_1',\n",
    "                        activation='relu')(decoder)\n",
    "decoder = Conv2DTranspose( filters = 64,\n",
    "                        kernel_size = (3,3),\n",
    "                        strides=2,\n",
    "                        padding='same',\n",
    "                        name='decoder_convolution_2',\n",
    "                        activation='relu')(decoder)\n",
    "decoder_output = Conv2DTranspose( filters = 3 if color else 1,\n",
    "                        kernel_size = (3,3),\n",
    "                        strides=1,\n",
    "                        padding='same',\n",
    "                        name='decoder_output',\n",
    "                        activation='relu')(decoder)\n",
    "decoder_model = Model( decoder_input , decoder_output )\n",
    "decoder_model.name = \"decoder_model\"\n",
    "decoder_model.summary()"
   ]
  },
  {
   "cell_type": "code",
   "execution_count": 9,
   "metadata": {},
   "outputs": [
    {
     "name": "stdout",
     "output_type": "stream",
     "text": [
      "Model: \"variational_autoencoder_model\"\n",
      "__________________________________________________________________________________________________\n",
      "Layer (type)                    Output Shape         Param #     Connected to                     \n",
      "==================================================================================================\n",
      "encode_input (InputLayer)       (None, 26, 26, 3)    0                                            \n",
      "__________________________________________________________________________________________________\n",
      "encoder_convolution_1 (Conv2D)  (None, 13, 13, 64)   1792        encode_input[0][0]               \n",
      "__________________________________________________________________________________________________\n",
      "encoder_convolution_2 (Conv2D)  (None, 13, 13, 32)   18464       encoder_convolution_1[0][0]      \n",
      "__________________________________________________________________________________________________\n",
      "encoder_convolution_3 (Conv2D)  (None, 13, 13, 16)   4624        encoder_convolution_2[0][0]      \n",
      "__________________________________________________________________________________________________\n",
      "flatten_1 (Flatten)             (None, 2704)         0           encoder_convolution_3[0][0]      \n",
      "__________________________________________________________________________________________________\n",
      "mean (Dense)                    (None, 507)          1371435     flatten_1[0][0]                  \n",
      "__________________________________________________________________________________________________\n",
      "variance (Dense)                (None, 507)          1371435     flatten_1[0][0]                  \n",
      "__________________________________________________________________________________________________\n",
      "encoder_output (Lambda)         (None, 507)          0           mean[0][0]                       \n",
      "                                                                 variance[0][0]                   \n",
      "__________________________________________________________________________________________________\n",
      "decoder_model (Model)           (None, 26, 26, 3)    1398499     encoder_output[0][0]             \n",
      "==================================================================================================\n",
      "Total params: 4,166,249\n",
      "Trainable params: 4,166,249\n",
      "Non-trainable params: 0\n",
      "__________________________________________________________________________________________________\n"
     ]
    }
   ],
   "source": [
    "Vautoencoder = Model( encoder_input , decoder_model(encoder_output) )\n",
    "Vautoencoder.name = \"variational_autoencoder_model\"\n",
    "Vautoencoder.summary()"
   ]
  },
  {
   "cell_type": "markdown",
   "metadata": {},
   "source": [
    "## Compile Model\n",
    "For variational autoencoder must aware about loss function"
   ]
  },
  {
   "cell_type": "code",
   "execution_count": 10,
   "metadata": {},
   "outputs": [],
   "source": [
    "LOSS_FACTOR = 1000\n",
    "\n",
    "def kl_loss( y_true , y_pred ):\n",
    "    kl_loss =  -0.5 * K.sum(1 + variance_layer - K.square( mean_layer ) - K.exp( variance_layer ), axis = 1)\n",
    "    return kl_loss\n",
    "\n",
    "def r_loss( y_true , y_pred ):\n",
    "    return K.mean( K.square( y_true - y_pred ), axis = [1,2,3] )\n",
    "\n",
    "def total_loss( y_true , y_pred ):\n",
    "    return LOSS_FACTOR * r_loss( y_true , y_pred ) + kl_loss( y_true , y_pred )"
   ]
  },
  {
   "cell_type": "code",
   "execution_count": 11,
   "metadata": {},
   "outputs": [],
   "source": [
    "X_train , X_test = DataHandle.split_data( X_data , 18 )"
   ]
  },
  {
   "cell_type": "code",
   "execution_count": 12,
   "metadata": {},
   "outputs": [],
   "source": [
    "optimizer = Adam( lr = 0.0005 )\n",
    "Vautoencoder.compile( optimizer = optimizer,\n",
    "                     loss = total_loss, \n",
    "                     metrics=[ r_loss , kl_loss ] )\n",
    "#Vautoencoder.compile( optimizer=optimizer,\n",
    "#                    loss='mean_squared_error',\n",
    "#                    metrics=['accuracy'] )\n",
    "X_train = np.array( X_train ).astype( np.float ) / 255\n",
    "X_test = np.array( X_test ).astype( np.float ) / 255"
   ]
  },
  {
   "cell_type": "markdown",
   "metadata": {},
   "source": [
    "## Train Model"
   ]
  },
  {
   "cell_type": "code",
   "execution_count": null,
   "metadata": {},
   "outputs": [],
   "source": [
    "history = Vautoencoder.fit( [ X_train ], # Input\n",
    "                          [ X_train ], # Output\n",
    "                         validation_data=( [X_test] , [X_test] ),\n",
    "                         epochs = rounds )"
   ]
  },
  {
   "cell_type": "code",
   "execution_count": null,
   "metadata": {},
   "outputs": [],
   "source": [
    "# Plot traing & validation loss\n",
    "plt.plot(history.history['loss'])\n",
    "plt.plot(history.history['val_loss'])\n",
    "plt.title('Model Loss')\n",
    "plt.ylabel('Loss')\n",
    "plt.xlabel('Epoch')\n",
    "plt.legend(['Train', 'Test'], loc='upper left')\n",
    "plt.show()\n",
    "\n",
    "# Plot training & validation Mean Square loss values\n",
    "plt.plot(history.history['r_loss'])\n",
    "plt.plot(history.history['val_r_loss'])\n",
    "plt.title('Model Mean Square loss')\n",
    "plt.ylabel('Mean Square Loss')\n",
    "plt.xlabel('Epoch')\n",
    "plt.legend(['Train', 'Test'], loc='upper left')\n",
    "plt.show()\n",
    "\n",
    "# Plot training & validation kl loss values\n",
    "plt.plot(history.history['kl_loss'])\n",
    "plt.plot(history.history['val_kl_loss'])\n",
    "plt.title('Model KL loss')\n",
    "plt.ylabel('KL Loss')\n",
    "plt.xlabel('Epoch')\n",
    "plt.legend(['Train', 'Test'], loc='upper left')\n",
    "plt.show()"
   ]
  },
  {
   "cell_type": "code",
   "execution_count": null,
   "metadata": {},
   "outputs": [],
   "source": [
    "Vautoencoder.save_weights( \"generator/anime_Vautoencoder_weights.h5\" )"
   ]
  },
  {
   "cell_type": "markdown",
   "metadata": {},
   "source": [
    "## Result Model"
   ]
  },
  {
   "cell_type": "code",
   "execution_count": 13,
   "metadata": {},
   "outputs": [],
   "source": [
    "Vautoencoder.load_weights( \"generator/anime_Vautoencoder_weights.h5\" )"
   ]
  },
  {
   "cell_type": "code",
   "execution_count": 14,
   "metadata": {},
   "outputs": [
    {
     "data": {
      "text/plain": [
       "<matplotlib.image.AxesImage at 0x7ff6d52124d0>"
      ]
     },
     "execution_count": 14,
     "metadata": {},
     "output_type": "execute_result"
    },
    {
     "data": {
      "image/png": "[encoded data removed]",
      "text/plain": [
       "<Figure size 432x288 with 1 Axes>"
      ]
     },
     "metadata": {
      "needs_background": "light"
     },
     "output_type": "display_data"
    }
   ],
   "source": [
    "plt.imshow( X_train[0])"
   ]
  },
  {
   "cell_type": "code",
   "execution_count": 15,
   "metadata": {},
   "outputs": [
    {
     "name": "stderr",
     "output_type": "stream",
     "text": [
      "Clipping input data to the valid range for imshow with RGB data ([0..1] for floats or [0..255] for integers).\n",
      "Clipping input data to the valid range for imshow with RGB data ([0..1] for floats or [0..255] for integers).\n",
      "Clipping input data to the valid range for imshow with RGB data ([0..1] for floats or [0..255] for integers).\n"
     ]
    },
    {
     "data": {
      "image/png": "[encoded data removed]",
      "text/plain": [
       "<Figure size 1872x1872 with 20 Axes>"
      ]
     },
     "metadata": {
      "needs_background": "light"
     },
     "output_type": "display_data"
    }
   ],
   "source": [
    "random_index = []\n",
    "for _ in range(0,10):\n",
    "    random_index.append( np.random.randint( len( X_test ) ) )\n",
    "random_index = tuple( set( random_index ) )\n",
    "data = []\n",
    "for index in random_index :\n",
    "    data.append( X_test[ index ] )\n",
    "data = np.array( data )\n",
    "DataHandle.plot_compare( data , Vautoencoder , dest_type = float )"
   ]
  },
  {
   "cell_type": "code",
   "execution_count": 16,
   "metadata": {},
   "outputs": [],
   "source": [
    "vae_decoder = Vautoencoder.layers[-1]"
   ]
  },
  {
   "cell_type": "code",
   "execution_count": 20,
   "metadata": {},
   "outputs": [
    {
     "name": "stderr",
     "output_type": "stream",
     "text": [
      "Clipping input data to the valid range for imshow with RGB data ([0..1] for floats or [0..255] for integers).\n",
      "Clipping input data to the valid range for imshow with RGB data ([0..1] for floats or [0..255] for integers).\n",
      "Clipping input data to the valid range for imshow with RGB data ([0..1] for floats or [0..255] for integers).\n",
      "Clipping input data to the valid range for imshow with RGB data ([0..1] for floats or [0..255] for integers).\n",
      "Clipping input data to the valid range for imshow with RGB data ([0..1] for floats or [0..255] for integers).\n"
     ]
    },
    {
     "data": {
      "image/png": "[encoded data removed]",
      "text/plain": [
       "<Figure size 1872x1872 with 10 Axes>"
      ]
     },
     "metadata": {
      "needs_background": "light"
     },
     "output_type": "display_data"
    }
   ],
   "source": [
    "latent_random = np.random.normal( 0 , 1 , size=( 10 , latent_size ))\n",
    "DataHandle.plot( latent_random , vae_decoder , dest_type = float )"
   ]
  },
  {
   "cell_type": "code",
   "execution_count": 18,
   "metadata": {},
   "outputs": [
    {
     "data": {
      "text/plain": [
       "(10, 507)"
      ]
     },
     "execution_count": 18,
     "metadata": {},
     "output_type": "execute_result"
    }
   ],
   "source": [
    "latent_random.shape"
   ]
  }
 ],
 "metadata": {
  "kernelspec": {
   "display_name": "Python 3",
   "language": "python",
   "name": "python3"
  },
  "language_info": {
   "codemirror_mode": {
    "name": "ipython",
    "version": 3
   },
   "file_extension": ".py",
   "mimetype": "text/x-python",
   "name": "python",
   "nbconvert_exporter": "python",
   "pygments_lexer": "ipython3",
   "version": "3.7.6"
  }
 },
 "nbformat": 4,
 "nbformat_minor": 4
}
