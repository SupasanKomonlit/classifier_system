{
 "cells": [
  {
   "cell_type": "markdown",
   "metadata": {},
   "source": [
    "# AUTOENCODER\n",
    "This file have purpose to anlysys performance of autoencoder model\n",
    "\n",
    "reference : https://towardsdatascience.com/generating-new-faces-with-variational-autoencoders-d13cfcb5f0a8\n",
    "## Prepare Program and Data"
   ]
  },
  {
   "cell_type": "code",
   "execution_count": 1,
   "metadata": {},
   "outputs": [
    {
     "name": "stderr",
     "output_type": "stream",
     "text": [
      "Using TensorFlow backend.\n"
     ]
    }
   ],
   "source": [
    "# Import library create by mysel\n",
    "from library.directory_handle import DirectoryHandle\n",
    "import library.image_handle as ImageHandle\n",
    "import library.data_handle as DataHandle\n",
    "\n",
    "# Import library for plot image\n",
    "import matplotlib.pyplot as plt\n",
    "\n",
    "# Import library for manage model part Core Layers\n",
    "from keras.layers import Input, Flatten, Dense, Reshape\n",
    "# Import library for manage model part Convolution Layers\n",
    "from keras.layers import Conv2D, Conv2DTranspose\n",
    "# Import Library for manage model part Model Object\n",
    "from keras.models import Model\n",
    "# Import Library for manage model part optimizer\n",
    "from keras.optimizers import Adam\n",
    "# Import Library about model \n",
    "from keras.utils import plot_model\n",
    "# Import library for load model\n",
    "from keras.models import load_model\n",
    "\n",
    "#Import library for normal process\n",
    "import numpy as np"
   ]
  },
  {
   "cell_type": "code",
   "execution_count": 2,
   "metadata": {},
   "outputs": [],
   "source": [
    "# Constant data path to collect directory data\n",
    "PATH_DATA = \"/home/zeabus/Documents/supasan/2019_deep_learning/PokemonData\" \n",
    "\n",
    "# Part parameter in normal program will require to input\n",
    "crop = True\n",
    "color = True\n",
    "rounds = 10 # Round to train data (epoches)"
   ]
  },
  {
   "cell_type": "code",
   "execution_count": 3,
   "metadata": {},
   "outputs": [
    {
     "name": "stdout",
     "output_type": "stream",
     "text": [
      "Will manage by resize image to smallest size 42 square and have latent size 1323\n"
     ]
    }
   ],
   "source": [
    "# Process Read data \n",
    "directory_handle = DirectoryHandle( PATH_DATA )\n",
    "list_label , list_data = directory_handle.group_data()\n",
    "list_dictionary = directory_handle.group_dictionary()\n",
    "\n",
    "smallest_size = ImageHandle.min_all_square_size1( list_data )\n",
    "smallest_size = smallest_size if smallest_size % 2 == 0 else smallest_size - 1\n",
    "latent_size = int( smallest_size * smallest_size / 4 )\n",
    "latent_size = latent_size * 3 if color else latent_size\n",
    "print(f'Will manage by resize image to smallest size {smallest_size} square and have latent size {latent_size}')\n",
    "\n",
    "input_dim = ( smallest_size , smallest_size , 3 if color else 1 )\n",
    "\n",
    "X_data , Y_data = ImageHandle.prepare_label_data( list_label , list_data , smallest_size , color = color , crop = crop )"
   ]
  },
  {
   "cell_type": "code",
   "execution_count": 4,
   "metadata": {},
   "outputs": [
    {
     "name": "stdout",
     "output_type": "stream",
     "text": [
      "From 6781 datas split for train 5934 and test 847\n"
     ]
    }
   ],
   "source": [
    "# Before train data first time must split data for train and test\n",
    "(X_train,Y_train) , (X_test,Y_test) = DataHandle.train_test_split( X_data , Y_data , 8 )\n",
    "print(f'From {len(X_data)} datas split for train {len(X_train)} and test {len(X_test)}')"
   ]
  },
  {
   "cell_type": "markdown",
   "metadata": {},
   "source": [
    "## Model Part\n",
    "Above part is part prepare data for train test and analysis"
   ]
  },
  {
   "cell_type": "code",
   "execution_count": null,
   "metadata": {},
   "outputs": [],
   "source": [
    "# Set up model part encoder\n",
    "encoder_input = Input( shape = input_dim , name = 'encode_input' )\n",
    "encoder = encoder_input\n",
    "encoder = Conv2D( filters = 64,\n",
    "                kernel_size = (3,3),\n",
    "                strides=2,\n",
    "                padding='same',\n",
    "                activation='relu',\n",
    "                name = \"encoder_convolution_1\")(encoder)\n",
    "encoder = Conv2D( filters = 32,\n",
    "                kernel_size = (3,3),\n",
    "                strides=1,\n",
    "                padding='same',\n",
    "                activation='relu',\n",
    "                name = \"encoder_convolution_2\")(encoder)\n",
    "encoder = Conv2D( filters = 16,\n",
    "                kernel_size = (3,3),\n",
    "                strides=1,\n",
    "                padding='same',\n",
    "                activation='relu',\n",
    "                name = \"encoder_convolution_3\")(encoder)\n",
    "shape_before_flatten = (int(smallest_size/2) , int(smallest_size/2) , 16)\n",
    "encoder = Flatten()(encoder)\n",
    "encoder_output = Dense( latent_size , name = \"encoder_output\")(encoder)\n",
    "\n",
    "encoder_model = Model( encoder_input , encoder_output )\n",
    "encoder_model.name = \"encoder_model\"\n",
    "encoder_model.summary()"
   ]
  },
  {
   "cell_type": "code",
   "execution_count": null,
   "metadata": {},
   "outputs": [],
   "source": [
    "decoder_input = Input( shape = (latent_size,) , name ='decoder_input')\n",
    "decoder = Dense( np.prod(shape_before_flatten) , name='decoder_input_convolution' )(decoder_input)\n",
    "decoder = Reshape( shape_before_flatten , name='decoder_input_reshape')(decoder)\n",
    "decoder = Conv2DTranspose( filters = 32,\n",
    "                        kernel_size = (3,3),\n",
    "                        strides=1,\n",
    "                        padding='same',\n",
    "                        name='decoder_convolution_1',\n",
    "                        activation='relu')(decoder)\n",
    "decoder = Conv2DTranspose( filters = 64,\n",
    "                        kernel_size = (3,3),\n",
    "                        strides=2,\n",
    "                        padding='same',\n",
    "                        name='decoder_convolution_2',\n",
    "                        activation='relu')(decoder)\n",
    "decoder_output = Conv2DTranspose( filters = 3 if color else 1,\n",
    "                        kernel_size = (3,3),\n",
    "                        strides=1,\n",
    "                        padding='same',\n",
    "                        name='decoder_output',\n",
    "                        activation='relu')(decoder)\n",
    "decoder_model = Model( decoder_input , decoder_output )\n",
    "decoder_model.name = \"decoder_model\"\n",
    "decoder_model.summary()"
   ]
  },
  {
   "cell_type": "code",
   "execution_count": null,
   "metadata": {},
   "outputs": [],
   "source": [
    "autoencoder = Model( encoder_input , decoder_model(encoder_output) )\n",
    "autoencoder.summary()"
   ]
  },
  {
   "cell_type": "markdown",
   "metadata": {},
   "source": [
    "## Train Model"
   ]
  },
  {
   "cell_type": "code",
   "execution_count": null,
   "metadata": {},
   "outputs": [],
   "source": [
    "optimizer = Adam( lr = 0.0005 ) # set learning\n",
    "autoencoder.compile( optimizer=optimizer,\n",
    "                    loss='mean_squared_error',\n",
    "                    metrics=['accuracy'])\n",
    "history = autoencoder.fit( [X_train], # Input\n",
    "                          [X_train], # Output\n",
    "                         validation_data=( [X_test] , [X_test]),\n",
    "                         epochs = rounds )"
   ]
  },
  {
   "cell_type": "code",
   "execution_count": null,
   "metadata": {},
   "outputs": [],
   "source": [
    "# Plot traing & validation accuracy\n",
    "plt.plot(history.history['accuracy'])\n",
    "plt.plot(history.history['val_accuracy'])\n",
    "plt.title('Model accuracy')\n",
    "plt.ylabel('Accuracy')\n",
    "plt.xlabel('Epoch')\n",
    "plt.legend(['Train', 'Test'], loc='upper left')\n",
    "plt.show()\n",
    "\n",
    "# Plot training & validation loss values\n",
    "plt.plot(history.history['loss'])\n",
    "plt.plot(history.history['val_loss'])\n",
    "plt.title('Model loss')\n",
    "plt.ylabel('Loss')\n",
    "plt.xlabel('Epoch')\n",
    "plt.legend(['Train', 'Test'], loc='upper left')\n",
    "plt.show()"
   ]
  },
  {
   "cell_type": "code",
   "execution_count": null,
   "metadata": {},
   "outputs": [],
   "source": [
    "autoencoder.save( \"pokemon_autoencoder.h5\")"
   ]
  },
  {
   "cell_type": "markdown",
   "metadata": {},
   "source": [
    "## Result Model"
   ]
  },
  {
   "cell_type": "code",
   "execution_count": null,
   "metadata": {},
   "outputs": [],
   "source": [
    "autoencoder = load_model( \"pokemon_autoencoder.h5\" )"
   ]
  },
  {
   "cell_type": "code",
   "execution_count": null,
   "metadata": {},
   "outputs": [],
   "source": [
    "random_index = []\n",
    "for _ in range(0,10):\n",
    "    random_index.append( np.random.randint( len( X_test)))\n",
    "random_index = tuple( set( random_index ) )\n",
    "data = []\n",
    "for index in random_index :\n",
    "    data.append( X_test[ index ] )\n",
    "data = np.array( data )"
   ]
  },
  {
   "cell_type": "code",
   "execution_count": null,
   "metadata": {},
   "outputs": [],
   "source": [
    "data[0].shape"
   ]
  },
  {
   "cell_type": "code",
   "execution_count": null,
   "metadata": {},
   "outputs": [],
   "source": [
    "DataHandle.plot_compare( data , autoencoder )"
   ]
  },
  {
   "cell_type": "markdown",
   "metadata": {},
   "source": [
    "# Part Classifier\n",
    "Above part is model for autoencoder below part will push Fully Connected Layer for classifier"
   ]
  },
  {
   "cell_type": "code",
   "execution_count": null,
   "metadata": {},
   "outputs": [],
   "source": [
    "classifier_input = Input( shape = (latent_size,) , name = \"classifier_input\" )\n",
    "classifier = Dense( int( latent_size / 2 ), \n",
    "        activation='relu',\n",
    "        name = 'classifier_network_1' )( classifier_input )\n",
    "classifier_output = Dense( len(list_label),\n",
    "        activation='softmax',\n",
    "        name = 'classifier_output' )( classifier )\n",
    "\n",
    "classifier_model = Model( classifier_input , classifier_output )\n",
    "classifier_model.name = \"fully_connected\"\n",
    "classifier_model.summary()"
   ]
  },
  {
   "cell_type": "code",
   "execution_count": null,
   "metadata": {},
   "outputs": [],
   "source": [
    "classifier = Model( encoder_input , classifier_model( encoder_output ) )\n",
    "classifier.name = \"classifier_model\"\n",
    "optimizer = Adam( lr = 0.0005 ) # set learning\n",
    "classifier.compile( optimizer=optimizer,\n",
    "                    loss='categorical_crossentropy',\n",
    "                    metrics=['accuracy'])\n",
    "classifier.summary()"
   ]
  },
  {
   "cell_type": "code",
   "execution_count": null,
   "metadata": {},
   "outputs": [],
   "source": [
    "# Next we will save weights\n",
    "for run in range( 0 , len( classifier.layers ) - 1 ):\n",
    "    classifier.layers[ run ].set_weights( autoencoder.layers[run].get_weights() )\n",
    "    classifier.layers[ run ].trainable = False\n",
    "classifier.summary()"
   ]
  },
  {
   "cell_type": "code",
   "execution_count": null,
   "metadata": {},
   "outputs": [],
   "source": [
    "history = classifier.fit( [X_train], # Input\n",
    "                          [Y_train], # Output\n",
    "                         validation_data=( [X_test] , [Y_test]),\n",
    "                         epochs = rounds )"
   ]
  },
  {
   "cell_type": "code",
   "execution_count": null,
   "metadata": {},
   "outputs": [],
   "source": [
    "classifier.save( \"pokemon_autoencoder_classifier.h5\")"
   ]
  },
  {
   "cell_type": "markdown",
   "metadata": {},
   "source": [
    "## Result Model Classifier on AutoEncoder"
   ]
  },
  {
   "cell_type": "code",
   "execution_count": 5,
   "metadata": {},
   "outputs": [],
   "source": [
    "classifier = load_model( \"pokemon_autoencoder_classifier.h5\" )\n",
    "predict = classifier.predict( [X_test] )"
   ]
  },
  {
   "cell_type": "code",
   "execution_count": 6,
   "metadata": {},
   "outputs": [
    {
     "name": "stdout",
     "output_type": "stream",
     "text": [
      "Report classifier system 847 datas\n",
      "Summary correct 124.0 datas from 847.0 datas\n",
      "Name                     |      PRECISION |         RECALL\n",
      "-------------------------------------------------------------------------------\n",
      "Alakazam                 |        0.00000 |        0.00000\n",
      "Diglett                  |        0.00000 |        0.00000\n",
      "Tauros                   |        0.11111 |        0.16667\n",
      "Poliwrath                |        0.00000 |        0.00000\n",
      "Jynx                     |        0.75000 |        0.50000\n",
      "Machop                   |        0.25000 |        0.33333\n",
      "Abra                     |        0.00000 |        0.00000\n",
      "Voltorb                  |        0.55556 |        0.71429\n",
      "Golbat                   |        0.00000 |        0.00000\n",
      "Magneton                 |        0.00000 |        0.00000\n",
      "Gloom                    |        0.33333 |        0.33333\n",
      "Alolan Sandslash         |        0.00000 |        0.00000\n",
      "Kangaskhan               |        0.00000 |        0.00000\n",
      "Horsea                   |        0.00000 |        0.00000\n",
      "Graveler                 |        0.00000 |        0.00000\n",
      "Venomoth                 |        0.10000 |        0.14286\n",
      "Krabby                   |        0.20000 |        0.16667\n",
      "Porygon                  |        0.40000 |        0.40000\n",
      "Gyarados                 |        0.00000 |        0.00000\n",
      "Cloyster                 |        0.14286 |        0.16667\n",
      "Raichu                   |        0.00000 |        0.00000\n",
      "Venonat                  |        0.00000 |        0.00000\n",
      "Bellsprout               |        0.00000 |        0.00000\n",
      "Shellder                 |        0.00000 |        0.00000\n",
      "Exeggcute                |        0.00000 |        0.00000\n",
      "Pikachu                  |        0.60000 |        0.37500\n",
      "Kabutops                 |        0.00000 |        0.00000\n",
      "Rhyhorn                  |        0.00000 |        0.00000\n",
      "Blastoise                |        0.00000 |        0.00000\n",
      "Nidorino                 |        0.22222 |        0.28571\n",
      "Growlithe                |        0.20000 |        0.20000\n",
      "Weezing                  |        0.00000 |        0.00000\n",
      "Persian                  |        0.00000 |        0.00000\n",
      "Vaporeon                 |        0.20000 |        0.14286\n",
      "Weepinbell               |        0.25000 |        0.33333\n",
      "Spearow                  |        0.11111 |        0.14286\n",
      "Drowzee                  |        0.00000 |        0.00000\n",
      "Pidgeot                  |        0.00000 |        0.00000\n",
      "Scyther                  |        0.33333 |        0.28571\n",
      "Zubat                    |        0.16667 |        0.20000\n",
      "Tentacruel               |        0.16667 |        0.16667\n",
      "Slowpoke                 |        0.25000 |        0.20000\n",
      "Gengar                   |        0.50000 |        0.16667\n",
      "Kakuna                   |        0.00000 |        0.00000\n",
      "Arbok                    |        0.00000 |        0.00000\n",
      "Venusaur                 |        0.30000 |        0.37500\n",
      "Primeape                 |        0.11111 |        0.14286\n",
      "Electabuzz               |        0.00000 |        0.00000\n",
      "Hypno                    |        1.00000 |        0.33333\n",
      "Cubone                   |        0.40000 |        0.40000\n",
      "Beedrill                 |        0.00000 |        0.00000\n",
      "Omanyte                  |        0.50000 |        0.33333\n",
      "Flareon                  |        0.00000 |        0.00000\n",
      "Rattata                  |        0.25000 |        0.16667\n",
      "Pinsir                   |        0.00000 |        0.00000\n",
      "Charizard                |        0.14286 |        0.25000\n",
      "Ninetales                |        0.00000 |        0.00000\n",
      "Vileplume                |        0.28571 |        0.28571\n",
      "Charmander               |        0.40000 |        0.33333\n",
      "Goldeen                  |        0.20000 |        0.16667\n",
      "Aerodactyl               |        0.00000 |        0.00000\n",
      "Paras                    |        0.00000 |        0.00000\n",
      "Zapdos                   |        0.00000 |        0.00000\n",
      "Poliwhirl                |        0.00000 |        0.00000\n",
      "Kabuto                   |        0.57143 |        0.66667\n",
      "Vulpix                   |        0.33333 |        0.16667\n",
      "Kingler                  |        0.00000 |        0.00000\n",
      "Seadra                   |        0.00000 |        0.00000\n",
      "Ivysaur                  |        1.00000 |        0.60000\n",
      "Wigglytuff               |        0.04255 |        0.28571\n",
      "Charmeleon               |        0.00000 |        0.00000\n",
      "Oddish                   |        0.50000 |        0.50000\n",
      "Arcanine                 |        0.00000 |        0.00000\n",
      "Snorlax                  |        0.25000 |        0.12500\n",
      "Kadabra                  |        0.00000 |        0.00000\n",
      "Jolteon                  |        0.11111 |        0.16667\n",
      "Dratini                  |        0.00000 |        0.00000\n",
      "Ditto                    |        0.80000 |        0.80000\n",
      "Fearow                   |        0.20000 |        0.16667\n",
      "Starmie                  |        0.18182 |        0.28571\n",
      "Bulbasaur                |        0.20000 |        0.20000\n",
      "Muk                      |        0.00000 |        0.00000\n",
      "Sandshrew                |        0.16667 |        0.16667\n",
      "Magmar                   |        0.33333 |        0.20000\n",
      "Clefairy                 |        0.00000 |        0.00000\n",
      "Seaking                  |        0.50000 |        0.16667\n",
      "Mankey                   |        0.50000 |        0.14286\n",
      "Parasect                 |        0.16667 |        0.20000\n",
      "Moltres                  |        0.00000 |        0.00000\n",
      "Meowth                   |            nan |        0.00000\n",
      "Haunter                  |        0.08333 |        0.16667\n",
      "Jigglypuff               |        0.00000 |        0.00000\n",
      "Grimer                   |        0.28571 |        0.33333\n",
      "Weedle                   |        0.00000 |        0.00000\n",
      "Pidgeotto                |        0.00000 |        0.00000\n",
      "Victreebel               |        0.00000 |        0.00000\n",
      "Geodude                  |            nan |        0.00000\n",
      "Magnemite                |        0.00000 |        0.00000\n",
      "Golduck                  |        0.00000 |        0.00000\n",
      "Caterpie                 |        0.10000 |        0.20000\n",
      "Dugtrio                  |        0.33333 |        0.33333\n",
      "Nidoking                 |        0.00000 |        0.00000\n",
      "Chansey                  |        0.16667 |        0.60000\n",
      "Dodrio                   |        0.00000 |        0.00000\n",
      "Ekans                    |        0.00000 |        0.00000\n",
      "Machoke                  |        0.00000 |        0.00000\n",
      "Koffing                  |            nan |        0.00000\n",
      "Wartortle                |        0.12500 |        0.16667\n",
      "Raticate                 |        0.00000 |        0.00000\n",
      "Electrode                |        0.35294 |        1.00000\n",
      "MrMime                   |        0.16667 |        0.16667\n",
      "Sandslash                |        0.00000 |        0.00000\n",
      "Golem                    |        0.25000 |        0.16667\n",
      "Poliwag                  |        0.00000 |        0.00000\n",
      "Staryu                   |        0.33333 |        0.50000\n",
      "Hitmonlee                |        0.00000 |        0.00000\n",
      "Seel                     |        0.00000 |        0.00000\n",
      "Exeggutor                |        0.00000 |        0.00000\n",
      "Nidoqueen                |        0.12500 |        0.16667\n",
      "Machamp                  |        0.00000 |        0.00000\n",
      "Eevee                    |        0.00000 |        0.00000\n",
      "Lickitung                |        0.00000 |        0.00000\n",
      "Clefable                 |        0.00000 |        0.00000\n",
      "Psyduck                  |        0.00000 |        0.00000\n",
      "Farfetchd                |        0.00000 |        0.00000\n",
      "Tentacool                |        0.08333 |        0.16667\n",
      "Pidgey                   |        0.00000 |        0.00000\n",
      "Lapras                   |        0.18750 |        0.50000\n",
      "Onix                     |        0.00000 |        0.00000\n",
      "Dragonair                |        0.00000 |        0.00000\n",
      "Omastar                  |        0.00000 |        0.00000\n",
      "Nidorina                 |        0.00000 |        0.00000\n",
      "Mew                      |        0.00000 |        0.00000\n",
      "Gastly                   |        0.25000 |        0.33333\n",
      "Rapidash                 |        0.00000 |        0.00000\n",
      "Butterfree               |        0.25000 |        0.33333\n",
      "Doduo                    |        0.00000 |        0.00000\n",
      "Marowak                  |        0.16667 |        0.25000\n",
      "Magikarp                 |        0.33333 |        0.16667\n",
      "Tangela                  |        0.25000 |        0.33333\n",
      "Ponyta                   |        0.30000 |        0.50000\n",
      "Metapod                  |        0.37500 |        0.50000\n",
      "Dragonite                |        0.00000 |        0.00000\n",
      "Rhydon                   |            nan |        0.00000\n",
      "Mewtwo                   |        0.00000 |        0.00000\n",
      "Articuno                 |        0.13043 |        0.50000\n",
      "Squirtle                 |        1.00000 |        0.14286\n",
      "Slowbro                  |        0.07692 |        0.20000\n",
      "Hitmonchan               |        0.08333 |        0.16667\n"
     ]
    },
    {
     "name": "stderr",
     "output_type": "stream",
     "text": [
      "/home/zeabus/Documents/supasan/2019_deep_learning/deep_learning_project/src_classifier/data_handle.py:77: RuntimeWarning: invalid value encountered in double_scalars\n",
      "  precision[ run ] = correct[run] / precision[ run ]\n"
     ]
    }
   ],
   "source": [
    "DataHandle.result_classifier( predict , np.array( Y_test ) , list_dictionary )"
   ]
  },
  {
   "cell_type": "code",
   "execution_count": null,
   "metadata": {},
   "outputs": [],
   "source": []
  }
 ],
 "metadata": {
  "kernelspec": {
   "display_name": "Python 3",
   "language": "python",
   "name": "python3"
  },
  "language_info": {
   "codemirror_mode": {
    "name": "ipython",
    "version": 3
   },
   "file_extension": ".py",
   "mimetype": "text/x-python",
   "name": "python",
   "nbconvert_exporter": "python",
   "pygments_lexer": "ipython3",
   "version": "3.7.6"
  }
 },
 "nbformat": 4,
 "nbformat_minor": 4
}
